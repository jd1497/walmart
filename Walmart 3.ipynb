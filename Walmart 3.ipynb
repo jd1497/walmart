{
 "cells": [
  {
   "cell_type": "code",
   "execution_count": 1,
   "metadata": {},
   "outputs": [
    {
     "name": "stderr",
     "output_type": "stream",
     "text": [
      "Warning message:\n",
      "\"package 'data.table' was built under R version 3.4.4\"Warning message:\n",
      "\"package 'ggplot2' was built under R version 3.4.4\"Warning message:\n",
      "\"package 'dplyr' was built under R version 3.4.4\"\n",
      "Attaching package: 'dplyr'\n",
      "\n",
      "The following objects are masked from 'package:data.table':\n",
      "\n",
      "    between, first, last\n",
      "\n",
      "The following objects are masked from 'package:stats':\n",
      "\n",
      "    filter, lag\n",
      "\n",
      "The following objects are masked from 'package:base':\n",
      "\n",
      "    intersect, setdiff, setequal, union\n",
      "\n",
      "Loading required package: lattice\n",
      "Warning message:\n",
      "\"package 'stringr' was built under R version 3.4.4\""
     ]
    }
   ],
   "source": [
    "\n",
    "library(data.table) \n",
    "library(ggplot2)\n",
    "library(dplyr)\n",
    "library(e1071)\n",
    "library(rpart)\n",
    "library(caret)\n",
    "\n",
    "library(ggplot2)\n",
    "library(stringr)\n",
    "library(ISLR)\n",
    "\n",
    "library(stats)"
   ]
  },
  {
   "cell_type": "code",
   "execution_count": 2,
   "metadata": {},
   "outputs": [
    {
     "data": {
      "text/html": [
       "<table>\n",
       "<thead><tr><th scope=col>Date</th><th scope=col>Store</th><th scope=col>IsHoliday</th><th scope=col>Dept</th><th scope=col>Weekly_Sales</th><th scope=col>Temperature</th><th scope=col>Fuel_Price</th><th scope=col>MarkDown1</th><th scope=col>MarkDown2</th><th scope=col>MarkDown3</th><th scope=col>...</th><th scope=col>MarkDown3_Imputed</th><th scope=col>MarkDown4_Imputed</th><th scope=col>MarkDown5_Imputed</th><th scope=col>TotalMarkDown_Imputed</th><th scope=col>Type</th><th scope=col>Size</th><th scope=col>Weekly_Sales_Week_Prev52</th><th scope=col>Weekly_Sales_Week_Prev1</th><th scope=col>Weekly_Sales_Week_Prev2</th><th scope=col>Weekly_Sales_Week_PercChange1</th></tr></thead>\n",
       "<tbody>\n",
       "\t<tr><td>2010-02-05</td><td>1         </td><td>FALSE     </td><td> 1        </td><td>24924.50  </td><td>42.31     </td><td>2.572     </td><td>NA        </td><td>NA        </td><td>NA        </td><td>...       </td><td>160.53    </td><td>32403.87  </td><td>5630.4    </td><td>76351.07  </td><td>A         </td><td>151315    </td><td>NA        </td><td>NA        </td><td>NA        </td><td>NA        </td></tr>\n",
       "\t<tr><td>2010-02-05</td><td>1         </td><td>FALSE     </td><td>26        </td><td>11737.12  </td><td>42.31     </td><td>2.572     </td><td>NA        </td><td>NA        </td><td>NA        </td><td>...       </td><td>160.53    </td><td>32403.87  </td><td>5630.4    </td><td>76351.07  </td><td>A         </td><td>151315    </td><td>NA        </td><td>NA        </td><td>NA        </td><td>NA        </td></tr>\n",
       "\t<tr><td>2010-02-05</td><td>1         </td><td>FALSE     </td><td>17        </td><td>13223.76  </td><td>42.31     </td><td>2.572     </td><td>NA        </td><td>NA        </td><td>NA        </td><td>...       </td><td>160.53    </td><td>32403.87  </td><td>5630.4    </td><td>76351.07  </td><td>A         </td><td>151315    </td><td>NA        </td><td>NA        </td><td>NA        </td><td>NA        </td></tr>\n",
       "\t<tr><td>2010-02-05</td><td>1         </td><td>FALSE     </td><td>45        </td><td>   37.44  </td><td>42.31     </td><td>2.572     </td><td>NA        </td><td>NA        </td><td>NA        </td><td>...       </td><td>160.53    </td><td>32403.87  </td><td>5630.4    </td><td>76351.07  </td><td>A         </td><td>151315    </td><td>NA        </td><td>NA        </td><td>NA        </td><td>NA        </td></tr>\n",
       "\t<tr><td>2010-02-05</td><td>1         </td><td>FALSE     </td><td>28        </td><td> 1085.29  </td><td>42.31     </td><td>2.572     </td><td>NA        </td><td>NA        </td><td>NA        </td><td>...       </td><td>160.53    </td><td>32403.87  </td><td>5630.4    </td><td>76351.07  </td><td>A         </td><td>151315    </td><td>NA        </td><td>NA        </td><td>NA        </td><td>NA        </td></tr>\n",
       "\t<tr><td>2010-02-05</td><td>1         </td><td>FALSE     </td><td>79        </td><td>46729.77  </td><td>42.31     </td><td>2.572     </td><td>NA        </td><td>NA        </td><td>NA        </td><td>...       </td><td>160.53    </td><td>32403.87  </td><td>5630.4    </td><td>76351.07  </td><td>A         </td><td>151315    </td><td>NA        </td><td>NA        </td><td>NA        </td><td>NA        </td></tr>\n",
       "</tbody>\n",
       "</table>\n"
      ],
      "text/latex": [
       "\\begin{tabular}{r|llllllllllllllllllllllllllllllllll}\n",
       " Date & Store & IsHoliday & Dept & Weekly\\_Sales & Temperature & Fuel\\_Price & MarkDown1 & MarkDown2 & MarkDown3 & ... & MarkDown3\\_Imputed & MarkDown4\\_Imputed & MarkDown5\\_Imputed & TotalMarkDown\\_Imputed & Type & Size & Weekly\\_Sales\\_Week\\_Prev52 & Weekly\\_Sales\\_Week\\_Prev1 & Weekly\\_Sales\\_Week\\_Prev2 & Weekly\\_Sales\\_Week\\_PercChange1\\\\\n",
       "\\hline\n",
       "\t 2010-02-05 & 1          & FALSE      &  1         & 24924.50   & 42.31      & 2.572      & NA         & NA         & NA         & ...        & 160.53     & 32403.87   & 5630.4     & 76351.07   & A          & 151315     & NA         & NA         & NA         & NA        \\\\\n",
       "\t 2010-02-05 & 1          & FALSE      & 26         & 11737.12   & 42.31      & 2.572      & NA         & NA         & NA         & ...        & 160.53     & 32403.87   & 5630.4     & 76351.07   & A          & 151315     & NA         & NA         & NA         & NA        \\\\\n",
       "\t 2010-02-05 & 1          & FALSE      & 17         & 13223.76   & 42.31      & 2.572      & NA         & NA         & NA         & ...        & 160.53     & 32403.87   & 5630.4     & 76351.07   & A          & 151315     & NA         & NA         & NA         & NA        \\\\\n",
       "\t 2010-02-05 & 1          & FALSE      & 45         &    37.44   & 42.31      & 2.572      & NA         & NA         & NA         & ...        & 160.53     & 32403.87   & 5630.4     & 76351.07   & A          & 151315     & NA         & NA         & NA         & NA        \\\\\n",
       "\t 2010-02-05 & 1          & FALSE      & 28         &  1085.29   & 42.31      & 2.572      & NA         & NA         & NA         & ...        & 160.53     & 32403.87   & 5630.4     & 76351.07   & A          & 151315     & NA         & NA         & NA         & NA        \\\\\n",
       "\t 2010-02-05 & 1          & FALSE      & 79         & 46729.77   & 42.31      & 2.572      & NA         & NA         & NA         & ...        & 160.53     & 32403.87   & 5630.4     & 76351.07   & A          & 151315     & NA         & NA         & NA         & NA        \\\\\n",
       "\\end{tabular}\n"
      ],
      "text/markdown": [
       "\n",
       "Date | Store | IsHoliday | Dept | Weekly_Sales | Temperature | Fuel_Price | MarkDown1 | MarkDown2 | MarkDown3 | ... | MarkDown3_Imputed | MarkDown4_Imputed | MarkDown5_Imputed | TotalMarkDown_Imputed | Type | Size | Weekly_Sales_Week_Prev52 | Weekly_Sales_Week_Prev1 | Weekly_Sales_Week_Prev2 | Weekly_Sales_Week_PercChange1 | \n",
       "|---|---|---|---|---|---|\n",
       "| 2010-02-05 | 1          | FALSE      |  1         | 24924.50   | 42.31      | 2.572      | NA         | NA         | NA         | ...        | 160.53     | 32403.87   | 5630.4     | 76351.07   | A          | 151315     | NA         | NA         | NA         | NA         | \n",
       "| 2010-02-05 | 1          | FALSE      | 26         | 11737.12   | 42.31      | 2.572      | NA         | NA         | NA         | ...        | 160.53     | 32403.87   | 5630.4     | 76351.07   | A          | 151315     | NA         | NA         | NA         | NA         | \n",
       "| 2010-02-05 | 1          | FALSE      | 17         | 13223.76   | 42.31      | 2.572      | NA         | NA         | NA         | ...        | 160.53     | 32403.87   | 5630.4     | 76351.07   | A          | 151315     | NA         | NA         | NA         | NA         | \n",
       "| 2010-02-05 | 1          | FALSE      | 45         |    37.44   | 42.31      | 2.572      | NA         | NA         | NA         | ...        | 160.53     | 32403.87   | 5630.4     | 76351.07   | A          | 151315     | NA         | NA         | NA         | NA         | \n",
       "| 2010-02-05 | 1          | FALSE      | 28         |  1085.29   | 42.31      | 2.572      | NA         | NA         | NA         | ...        | 160.53     | 32403.87   | 5630.4     | 76351.07   | A          | 151315     | NA         | NA         | NA         | NA         | \n",
       "| 2010-02-05 | 1          | FALSE      | 79         | 46729.77   | 42.31      | 2.572      | NA         | NA         | NA         | ...        | 160.53     | 32403.87   | 5630.4     | 76351.07   | A          | 151315     | NA         | NA         | NA         | NA         | \n",
       "\n",
       "\n"
      ],
      "text/plain": [
       "  Date       Store IsHoliday Dept Weekly_Sales Temperature Fuel_Price MarkDown1\n",
       "1 2010-02-05 1     FALSE      1   24924.50     42.31       2.572      NA       \n",
       "2 2010-02-05 1     FALSE     26   11737.12     42.31       2.572      NA       \n",
       "3 2010-02-05 1     FALSE     17   13223.76     42.31       2.572      NA       \n",
       "4 2010-02-05 1     FALSE     45      37.44     42.31       2.572      NA       \n",
       "5 2010-02-05 1     FALSE     28    1085.29     42.31       2.572      NA       \n",
       "6 2010-02-05 1     FALSE     79   46729.77     42.31       2.572      NA       \n",
       "  MarkDown2 MarkDown3 ... MarkDown3_Imputed MarkDown4_Imputed MarkDown5_Imputed\n",
       "1 NA        NA        ... 160.53            32403.87          5630.4           \n",
       "2 NA        NA        ... 160.53            32403.87          5630.4           \n",
       "3 NA        NA        ... 160.53            32403.87          5630.4           \n",
       "4 NA        NA        ... 160.53            32403.87          5630.4           \n",
       "5 NA        NA        ... 160.53            32403.87          5630.4           \n",
       "6 NA        NA        ... 160.53            32403.87          5630.4           \n",
       "  TotalMarkDown_Imputed Type Size   Weekly_Sales_Week_Prev52\n",
       "1 76351.07              A    151315 NA                      \n",
       "2 76351.07              A    151315 NA                      \n",
       "3 76351.07              A    151315 NA                      \n",
       "4 76351.07              A    151315 NA                      \n",
       "5 76351.07              A    151315 NA                      \n",
       "6 76351.07              A    151315 NA                      \n",
       "  Weekly_Sales_Week_Prev1 Weekly_Sales_Week_Prev2 Weekly_Sales_Week_PercChange1\n",
       "1 NA                      NA                      NA                           \n",
       "2 NA                      NA                      NA                           \n",
       "3 NA                      NA                      NA                           \n",
       "4 NA                      NA                      NA                           \n",
       "5 NA                      NA                      NA                           \n",
       "6 NA                      NA                      NA                           "
      ]
     },
     "metadata": {},
     "output_type": "display_data"
    },
    {
     "data": {
      "text/html": [
       "<ol class=list-inline>\n",
       "\t<li>421570</li>\n",
       "\t<li>34</li>\n",
       "</ol>\n"
      ],
      "text/latex": [
       "\\begin{enumerate*}\n",
       "\\item 421570\n",
       "\\item 34\n",
       "\\end{enumerate*}\n"
      ],
      "text/markdown": [
       "1. 421570\n",
       "2. 34\n",
       "\n",
       "\n"
      ],
      "text/plain": [
       "[1] 421570     34"
      ]
     },
     "metadata": {},
     "output_type": "display_data"
    }
   ],
   "source": [
    "wm <- read.csv('data_clean.csv')\n",
    "head(wm)\n",
    "dim(wm)"
   ]
  },
  {
   "cell_type": "code",
   "execution_count": 3,
   "metadata": {},
   "outputs": [
    {
     "data": {
      "text/html": [
       "<table>\n",
       "<thead><tr><th scope=col>Date</th><th scope=col>Store</th><th scope=col>IsHoliday</th><th scope=col>Dept</th><th scope=col>Weekly_Sales</th><th scope=col>Temperature</th><th scope=col>Fuel_Price</th><th scope=col>MarkDown1</th><th scope=col>MarkDown2</th><th scope=col>MarkDown3</th><th scope=col>...</th><th scope=col>MarkDown3_Imputed</th><th scope=col>MarkDown4_Imputed</th><th scope=col>MarkDown5_Imputed</th><th scope=col>TotalMarkDown_Imputed</th><th scope=col>Type</th><th scope=col>Size</th><th scope=col>Weekly_Sales_Week_Prev52</th><th scope=col>Weekly_Sales_Week_Prev1</th><th scope=col>Weekly_Sales_Week_Prev2</th><th scope=col>Weekly_Sales_Week_PercChange1</th></tr></thead>\n",
       "<tbody>\n",
       "\t<tr><td>2010-02-05</td><td>1         </td><td>FALSE     </td><td> 1        </td><td>24924.50  </td><td>42.31     </td><td>2.572     </td><td>NA        </td><td>NA        </td><td>NA        </td><td>...       </td><td>160.53    </td><td>32403.87  </td><td>5630.4    </td><td>76351.07  </td><td>1         </td><td>151315    </td><td>NA        </td><td>NA        </td><td>NA        </td><td>NA        </td></tr>\n",
       "\t<tr><td>2010-02-05</td><td>1         </td><td>FALSE     </td><td>26        </td><td>11737.12  </td><td>42.31     </td><td>2.572     </td><td>NA        </td><td>NA        </td><td>NA        </td><td>...       </td><td>160.53    </td><td>32403.87  </td><td>5630.4    </td><td>76351.07  </td><td>1         </td><td>151315    </td><td>NA        </td><td>NA        </td><td>NA        </td><td>NA        </td></tr>\n",
       "\t<tr><td>2010-02-05</td><td>1         </td><td>FALSE     </td><td>17        </td><td>13223.76  </td><td>42.31     </td><td>2.572     </td><td>NA        </td><td>NA        </td><td>NA        </td><td>...       </td><td>160.53    </td><td>32403.87  </td><td>5630.4    </td><td>76351.07  </td><td>1         </td><td>151315    </td><td>NA        </td><td>NA        </td><td>NA        </td><td>NA        </td></tr>\n",
       "\t<tr><td>2010-02-05</td><td>1         </td><td>FALSE     </td><td>45        </td><td>   37.44  </td><td>42.31     </td><td>2.572     </td><td>NA        </td><td>NA        </td><td>NA        </td><td>...       </td><td>160.53    </td><td>32403.87  </td><td>5630.4    </td><td>76351.07  </td><td>1         </td><td>151315    </td><td>NA        </td><td>NA        </td><td>NA        </td><td>NA        </td></tr>\n",
       "\t<tr><td>2010-02-05</td><td>1         </td><td>FALSE     </td><td>28        </td><td> 1085.29  </td><td>42.31     </td><td>2.572     </td><td>NA        </td><td>NA        </td><td>NA        </td><td>...       </td><td>160.53    </td><td>32403.87  </td><td>5630.4    </td><td>76351.07  </td><td>1         </td><td>151315    </td><td>NA        </td><td>NA        </td><td>NA        </td><td>NA        </td></tr>\n",
       "\t<tr><td>2010-02-05</td><td>1         </td><td>FALSE     </td><td>79        </td><td>46729.77  </td><td>42.31     </td><td>2.572     </td><td>NA        </td><td>NA        </td><td>NA        </td><td>...       </td><td>160.53    </td><td>32403.87  </td><td>5630.4    </td><td>76351.07  </td><td>1         </td><td>151315    </td><td>NA        </td><td>NA        </td><td>NA        </td><td>NA        </td></tr>\n",
       "</tbody>\n",
       "</table>\n"
      ],
      "text/latex": [
       "\\begin{tabular}{r|llllllllllllllllllllllllllllllllll}\n",
       " Date & Store & IsHoliday & Dept & Weekly\\_Sales & Temperature & Fuel\\_Price & MarkDown1 & MarkDown2 & MarkDown3 & ... & MarkDown3\\_Imputed & MarkDown4\\_Imputed & MarkDown5\\_Imputed & TotalMarkDown\\_Imputed & Type & Size & Weekly\\_Sales\\_Week\\_Prev52 & Weekly\\_Sales\\_Week\\_Prev1 & Weekly\\_Sales\\_Week\\_Prev2 & Weekly\\_Sales\\_Week\\_PercChange1\\\\\n",
       "\\hline\n",
       "\t 2010-02-05 & 1          & FALSE      &  1         & 24924.50   & 42.31      & 2.572      & NA         & NA         & NA         & ...        & 160.53     & 32403.87   & 5630.4     & 76351.07   & 1          & 151315     & NA         & NA         & NA         & NA        \\\\\n",
       "\t 2010-02-05 & 1          & FALSE      & 26         & 11737.12   & 42.31      & 2.572      & NA         & NA         & NA         & ...        & 160.53     & 32403.87   & 5630.4     & 76351.07   & 1          & 151315     & NA         & NA         & NA         & NA        \\\\\n",
       "\t 2010-02-05 & 1          & FALSE      & 17         & 13223.76   & 42.31      & 2.572      & NA         & NA         & NA         & ...        & 160.53     & 32403.87   & 5630.4     & 76351.07   & 1          & 151315     & NA         & NA         & NA         & NA        \\\\\n",
       "\t 2010-02-05 & 1          & FALSE      & 45         &    37.44   & 42.31      & 2.572      & NA         & NA         & NA         & ...        & 160.53     & 32403.87   & 5630.4     & 76351.07   & 1          & 151315     & NA         & NA         & NA         & NA        \\\\\n",
       "\t 2010-02-05 & 1          & FALSE      & 28         &  1085.29   & 42.31      & 2.572      & NA         & NA         & NA         & ...        & 160.53     & 32403.87   & 5630.4     & 76351.07   & 1          & 151315     & NA         & NA         & NA         & NA        \\\\\n",
       "\t 2010-02-05 & 1          & FALSE      & 79         & 46729.77   & 42.31      & 2.572      & NA         & NA         & NA         & ...        & 160.53     & 32403.87   & 5630.4     & 76351.07   & 1          & 151315     & NA         & NA         & NA         & NA        \\\\\n",
       "\\end{tabular}\n"
      ],
      "text/markdown": [
       "\n",
       "Date | Store | IsHoliday | Dept | Weekly_Sales | Temperature | Fuel_Price | MarkDown1 | MarkDown2 | MarkDown3 | ... | MarkDown3_Imputed | MarkDown4_Imputed | MarkDown5_Imputed | TotalMarkDown_Imputed | Type | Size | Weekly_Sales_Week_Prev52 | Weekly_Sales_Week_Prev1 | Weekly_Sales_Week_Prev2 | Weekly_Sales_Week_PercChange1 | \n",
       "|---|---|---|---|---|---|\n",
       "| 2010-02-05 | 1          | FALSE      |  1         | 24924.50   | 42.31      | 2.572      | NA         | NA         | NA         | ...        | 160.53     | 32403.87   | 5630.4     | 76351.07   | 1          | 151315     | NA         | NA         | NA         | NA         | \n",
       "| 2010-02-05 | 1          | FALSE      | 26         | 11737.12   | 42.31      | 2.572      | NA         | NA         | NA         | ...        | 160.53     | 32403.87   | 5630.4     | 76351.07   | 1          | 151315     | NA         | NA         | NA         | NA         | \n",
       "| 2010-02-05 | 1          | FALSE      | 17         | 13223.76   | 42.31      | 2.572      | NA         | NA         | NA         | ...        | 160.53     | 32403.87   | 5630.4     | 76351.07   | 1          | 151315     | NA         | NA         | NA         | NA         | \n",
       "| 2010-02-05 | 1          | FALSE      | 45         |    37.44   | 42.31      | 2.572      | NA         | NA         | NA         | ...        | 160.53     | 32403.87   | 5630.4     | 76351.07   | 1          | 151315     | NA         | NA         | NA         | NA         | \n",
       "| 2010-02-05 | 1          | FALSE      | 28         |  1085.29   | 42.31      | 2.572      | NA         | NA         | NA         | ...        | 160.53     | 32403.87   | 5630.4     | 76351.07   | 1          | 151315     | NA         | NA         | NA         | NA         | \n",
       "| 2010-02-05 | 1          | FALSE      | 79         | 46729.77   | 42.31      | 2.572      | NA         | NA         | NA         | ...        | 160.53     | 32403.87   | 5630.4     | 76351.07   | 1          | 151315     | NA         | NA         | NA         | NA         | \n",
       "\n",
       "\n"
      ],
      "text/plain": [
       "  Date       Store IsHoliday Dept Weekly_Sales Temperature Fuel_Price MarkDown1\n",
       "1 2010-02-05 1     FALSE      1   24924.50     42.31       2.572      NA       \n",
       "2 2010-02-05 1     FALSE     26   11737.12     42.31       2.572      NA       \n",
       "3 2010-02-05 1     FALSE     17   13223.76     42.31       2.572      NA       \n",
       "4 2010-02-05 1     FALSE     45      37.44     42.31       2.572      NA       \n",
       "5 2010-02-05 1     FALSE     28    1085.29     42.31       2.572      NA       \n",
       "6 2010-02-05 1     FALSE     79   46729.77     42.31       2.572      NA       \n",
       "  MarkDown2 MarkDown3 ... MarkDown3_Imputed MarkDown4_Imputed MarkDown5_Imputed\n",
       "1 NA        NA        ... 160.53            32403.87          5630.4           \n",
       "2 NA        NA        ... 160.53            32403.87          5630.4           \n",
       "3 NA        NA        ... 160.53            32403.87          5630.4           \n",
       "4 NA        NA        ... 160.53            32403.87          5630.4           \n",
       "5 NA        NA        ... 160.53            32403.87          5630.4           \n",
       "6 NA        NA        ... 160.53            32403.87          5630.4           \n",
       "  TotalMarkDown_Imputed Type Size   Weekly_Sales_Week_Prev52\n",
       "1 76351.07              1    151315 NA                      \n",
       "2 76351.07              1    151315 NA                      \n",
       "3 76351.07              1    151315 NA                      \n",
       "4 76351.07              1    151315 NA                      \n",
       "5 76351.07              1    151315 NA                      \n",
       "6 76351.07              1    151315 NA                      \n",
       "  Weekly_Sales_Week_Prev1 Weekly_Sales_Week_Prev2 Weekly_Sales_Week_PercChange1\n",
       "1 NA                      NA                      NA                           \n",
       "2 NA                      NA                      NA                           \n",
       "3 NA                      NA                      NA                           \n",
       "4 NA                      NA                      NA                           \n",
       "5 NA                      NA                      NA                           \n",
       "6 NA                      NA                      NA                           "
      ]
     },
     "metadata": {},
     "output_type": "display_data"
    },
    {
     "data": {
      "text/html": [
       "<ol class=list-inline>\n",
       "\t<li>421570</li>\n",
       "\t<li>34</li>\n",
       "</ol>\n"
      ],
      "text/latex": [
       "\\begin{enumerate*}\n",
       "\\item 421570\n",
       "\\item 34\n",
       "\\end{enumerate*}\n"
      ],
      "text/markdown": [
       "1. 421570\n",
       "2. 34\n",
       "\n",
       "\n"
      ],
      "text/plain": [
       "[1] 421570     34"
      ]
     },
     "metadata": {},
     "output_type": "display_data"
    }
   ],
   "source": [
    "wm$Type <- as.character(wm$Type)\n",
    "wm$Type[wm$Type=='A']<- '1'\n",
    "wm$Type[wm$Type=='B']<- '2'\n",
    "wm$Type[wm$Type=='C']<- '3'\n",
    "#wm$Type[wm$Type=='B']<- \"2\"\n",
    "#wm$Type[wm$Type=='C']<- \"3\"\n",
    "wm$Type <- as.numeric(wm$Type)\n",
    "head(wm)\n",
    "dim(wm)"
   ]
  },
  {
   "cell_type": "code",
   "execution_count": null,
   "metadata": {
    "collapsed": true
   },
   "outputs": [],
   "source": []
  },
  {
   "cell_type": "code",
   "execution_count": null,
   "metadata": {
    "collapsed": true
   },
   "outputs": [],
   "source": []
  },
  {
   "cell_type": "code",
   "execution_count": null,
   "metadata": {
    "collapsed": true
   },
   "outputs": [],
   "source": []
  },
  {
   "cell_type": "code",
   "execution_count": 4,
   "metadata": {},
   "outputs": [
    {
     "name": "stderr",
     "output_type": "stream",
     "text": [
      "Warning message:\n",
      "\"package 'bindrcpp' was built under R version 3.4.4\""
     ]
    },
    {
     "data": {
      "text/html": [
       "<table>\n",
       "<thead><tr><th scope=col>Date</th><th scope=col>Store</th><th scope=col>Weekly_Sales</th><th scope=col>IsHoliday</th><th scope=col>Temperature</th><th scope=col>Fuel_Price</th><th scope=col>CPI</th><th scope=col>Unemployment</th><th scope=col>Type</th><th scope=col>Size</th><th scope=col>Week</th><th scope=col>IsHolidayFixed</th></tr></thead>\n",
       "<tbody>\n",
       "\t<tr><td>2010-02-05</td><td>1         </td><td>1643690.9 </td><td>FALSE     </td><td>42.31     </td><td>2.572     </td><td>211.0964  </td><td>8.106     </td><td>1         </td><td>151315    </td><td>5         </td><td>FALSE     </td></tr>\n",
       "\t<tr><td>2010-02-05</td><td>2         </td><td>2136989.5 </td><td>FALSE     </td><td>40.19     </td><td>2.572     </td><td>210.7526  </td><td>8.324     </td><td>1         </td><td>202307    </td><td>5         </td><td>FALSE     </td></tr>\n",
       "\t<tr><td>2010-02-05</td><td>3         </td><td> 461622.2 </td><td>FALSE     </td><td>45.71     </td><td>2.572     </td><td>214.4249  </td><td>7.368     </td><td>2         </td><td> 37392    </td><td>5         </td><td>FALSE     </td></tr>\n",
       "\t<tr><td>2010-02-05</td><td>4         </td><td>2135143.9 </td><td>FALSE     </td><td>43.76     </td><td>2.598     </td><td>126.4421  </td><td>8.623     </td><td>1         </td><td>205863    </td><td>5         </td><td>FALSE     </td></tr>\n",
       "\t<tr><td>2010-02-05</td><td>5         </td><td> 317173.1 </td><td>FALSE     </td><td>39.70     </td><td>2.572     </td><td>211.6540  </td><td>6.566     </td><td>2         </td><td> 34875    </td><td>5         </td><td>FALSE     </td></tr>\n",
       "\t<tr><td>2010-02-05</td><td>6         </td><td>1652635.1 </td><td>FALSE     </td><td>40.43     </td><td>2.572     </td><td>212.6224  </td><td>7.259     </td><td>1         </td><td>202505    </td><td>5         </td><td>FALSE     </td></tr>\n",
       "</tbody>\n",
       "</table>\n"
      ],
      "text/latex": [
       "\\begin{tabular}{r|llllllllllll}\n",
       " Date & Store & Weekly\\_Sales & IsHoliday & Temperature & Fuel\\_Price & CPI & Unemployment & Type & Size & Week & IsHolidayFixed\\\\\n",
       "\\hline\n",
       "\t 2010-02-05 & 1          & 1643690.9  & FALSE      & 42.31      & 2.572      & 211.0964   & 8.106      & 1          & 151315     & 5          & FALSE     \\\\\n",
       "\t 2010-02-05 & 2          & 2136989.5  & FALSE      & 40.19      & 2.572      & 210.7526   & 8.324      & 1          & 202307     & 5          & FALSE     \\\\\n",
       "\t 2010-02-05 & 3          &  461622.2  & FALSE      & 45.71      & 2.572      & 214.4249   & 7.368      & 2          &  37392     & 5          & FALSE     \\\\\n",
       "\t 2010-02-05 & 4          & 2135143.9  & FALSE      & 43.76      & 2.598      & 126.4421   & 8.623      & 1          & 205863     & 5          & FALSE     \\\\\n",
       "\t 2010-02-05 & 5          &  317173.1  & FALSE      & 39.70      & 2.572      & 211.6540   & 6.566      & 2          &  34875     & 5          & FALSE     \\\\\n",
       "\t 2010-02-05 & 6          & 1652635.1  & FALSE      & 40.43      & 2.572      & 212.6224   & 7.259      & 1          & 202505     & 5          & FALSE     \\\\\n",
       "\\end{tabular}\n"
      ],
      "text/markdown": [
       "\n",
       "Date | Store | Weekly_Sales | IsHoliday | Temperature | Fuel_Price | CPI | Unemployment | Type | Size | Week | IsHolidayFixed | \n",
       "|---|---|---|---|---|---|\n",
       "| 2010-02-05 | 1          | 1643690.9  | FALSE      | 42.31      | 2.572      | 211.0964   | 8.106      | 1          | 151315     | 5          | FALSE      | \n",
       "| 2010-02-05 | 2          | 2136989.5  | FALSE      | 40.19      | 2.572      | 210.7526   | 8.324      | 1          | 202307     | 5          | FALSE      | \n",
       "| 2010-02-05 | 3          |  461622.2  | FALSE      | 45.71      | 2.572      | 214.4249   | 7.368      | 2          |  37392     | 5          | FALSE      | \n",
       "| 2010-02-05 | 4          | 2135143.9  | FALSE      | 43.76      | 2.598      | 126.4421   | 8.623      | 1          | 205863     | 5          | FALSE      | \n",
       "| 2010-02-05 | 5          |  317173.1  | FALSE      | 39.70      | 2.572      | 211.6540   | 6.566      | 2          |  34875     | 5          | FALSE      | \n",
       "| 2010-02-05 | 6          | 1652635.1  | FALSE      | 40.43      | 2.572      | 212.6224   | 7.259      | 1          | 202505     | 5          | FALSE      | \n",
       "\n",
       "\n"
      ],
      "text/plain": [
       "  Date       Store Weekly_Sales IsHoliday Temperature Fuel_Price CPI     \n",
       "1 2010-02-05 1     1643690.9    FALSE     42.31       2.572      211.0964\n",
       "2 2010-02-05 2     2136989.5    FALSE     40.19       2.572      210.7526\n",
       "3 2010-02-05 3      461622.2    FALSE     45.71       2.572      214.4249\n",
       "4 2010-02-05 4     2135143.9    FALSE     43.76       2.598      126.4421\n",
       "5 2010-02-05 5      317173.1    FALSE     39.70       2.572      211.6540\n",
       "6 2010-02-05 6     1652635.1    FALSE     40.43       2.572      212.6224\n",
       "  Unemployment Type Size   Week IsHolidayFixed\n",
       "1 8.106        1    151315 5    FALSE         \n",
       "2 8.324        1    202307 5    FALSE         \n",
       "3 7.368        2     37392 5    FALSE         \n",
       "4 8.623        1    205863 5    FALSE         \n",
       "5 6.566        2     34875 5    FALSE         \n",
       "6 7.259        1    202505 5    FALSE         "
      ]
     },
     "metadata": {},
     "output_type": "display_data"
    }
   ],
   "source": [
    "wm %>%\n",
    "  group_by(Date,Store)%>%\n",
    "  summarise(Weekly_Sales=sum(Weekly_Sales),\n",
    "            IsHoliday=any(IsHoliday),\n",
    "            Temperature=mean(Temperature),\n",
    "            Fuel_Price=mean(Fuel_Price),\n",
    "            CPI=mean(CPI),\n",
    "            Unemployment=mean(Unemployment),\n",
    "            Type=mean(Type),\n",
    "            Size=mean(Size),\n",
    "            Week=mean(Week),\n",
    "            IsHolidayFixed=any(IsHolidayFixed))->data.agg\n",
    "head(data.agg)"
   ]
  },
  {
   "cell_type": "code",
   "execution_count": 5,
   "metadata": {
    "scrolled": false
   },
   "outputs": [
    {
     "data": {
      "image/png": "[encoded data removed]",
      "text/plain": [
       "Plot with title \"\""
      ]
     },
     "metadata": {},
     "output_type": "display_data"
    }
   ],
   "source": [
    "agg_model1 <- lm(log(Weekly_Sales) ~ Temperature + CPI + Unemployment + Type + Size + Week + IsHolidayFixed,data=data.agg)\n",
    "par(mfrow=c(2,2))\n",
    "plot(agg_model1)"
   ]
  },
  {
   "cell_type": "code",
   "execution_count": 7,
   "metadata": {},
   "outputs": [
    {
     "data": {
      "text/html": [
       "<table>\n",
       "<thead><tr><th></th><th scope=col>Df</th><th scope=col>Sum Sq</th><th scope=col>Mean Sq</th><th scope=col>F value</th><th scope=col>Pr(&gt;F)</th></tr></thead>\n",
       "<tbody>\n",
       "\t<tr><th scope=row>Temperature</th><td>   1        </td><td> 19.060877  </td><td> 19.06087746</td><td>  247.01990 </td><td>1.195241e-54</td></tr>\n",
       "\t<tr><th scope=row>CPI</th><td>   1        </td><td>  8.585865  </td><td>  8.58586470</td><td>  111.26872 </td><td>8.389172e-26</td></tr>\n",
       "\t<tr><th scope=row>Unemployment</th><td>   1        </td><td> 20.692845  </td><td> 20.69284518</td><td>  268.16943 </td><td>4.414200e-59</td></tr>\n",
       "\t<tr><th scope=row>Type</th><td>   1        </td><td>788.687891  </td><td>788.68789083</td><td>10221.01980 </td><td>0.000000e+00</td></tr>\n",
       "\t<tr><th scope=row>Size</th><td>   1        </td><td>882.060737  </td><td>882.06073671</td><td>11431.08746 </td><td>0.000000e+00</td></tr>\n",
       "\t<tr><th scope=row>Week</th><td>   1        </td><td>  5.630972  </td><td>  5.63097209</td><td>   72.97472 </td><td>1.622029e-17</td></tr>\n",
       "\t<tr><th scope=row>IsHolidayFixed</th><td>   1        </td><td>  6.152638  </td><td>  6.15263810</td><td>   79.73526 </td><td>5.504553e-19</td></tr>\n",
       "\t<tr><th scope=row>Residuals</th><td>6427        </td><td>495.928701  </td><td>  0.07716333</td><td>         NA </td><td>          NA</td></tr>\n",
       "</tbody>\n",
       "</table>\n"
      ],
      "text/latex": [
       "\\begin{tabular}{r|lllll}\n",
       "  & Df & Sum Sq & Mean Sq & F value & Pr(>F)\\\\\n",
       "\\hline\n",
       "\tTemperature &    1         &  19.060877   &  19.06087746 &   247.01990  & 1.195241e-54\\\\\n",
       "\tCPI &    1         &   8.585865   &   8.58586470 &   111.26872  & 8.389172e-26\\\\\n",
       "\tUnemployment &    1         &  20.692845   &  20.69284518 &   268.16943  & 4.414200e-59\\\\\n",
       "\tType &    1         & 788.687891   & 788.68789083 & 10221.01980  & 0.000000e+00\\\\\n",
       "\tSize &    1         & 882.060737   & 882.06073671 & 11431.08746  & 0.000000e+00\\\\\n",
       "\tWeek &    1         &   5.630972   &   5.63097209 &    72.97472  & 1.622029e-17\\\\\n",
       "\tIsHolidayFixed &    1         &   6.152638   &   6.15263810 &    79.73526  & 5.504553e-19\\\\\n",
       "\tResiduals & 6427         & 495.928701   &   0.07716333 &          NA  &           NA\\\\\n",
       "\\end{tabular}\n"
      ],
      "text/markdown": [
       "\n",
       "| <!--/--> | Df | Sum Sq | Mean Sq | F value | Pr(>F) | \n",
       "|---|---|---|---|---|---|---|---|\n",
       "| Temperature |    1         |  19.060877   |  19.06087746 |   247.01990  | 1.195241e-54 | \n",
       "| CPI |    1         |   8.585865   |   8.58586470 |   111.26872  | 8.389172e-26 | \n",
       "| Unemployment |    1         |  20.692845   |  20.69284518 |   268.16943  | 4.414200e-59 | \n",
       "| Type |    1         | 788.687891   | 788.68789083 | 10221.01980  | 0.000000e+00 | \n",
       "| Size |    1         | 882.060737   | 882.06073671 | 11431.08746  | 0.000000e+00 | \n",
       "| Week |    1         |   5.630972   |   5.63097209 |    72.97472  | 1.622029e-17 | \n",
       "| IsHolidayFixed |    1         |   6.152638   |   6.15263810 |    79.73526  | 5.504553e-19 | \n",
       "| Residuals | 6427         | 495.928701   |   0.07716333 |          NA  |           NA | \n",
       "\n",
       "\n"
      ],
      "text/plain": [
       "               Df   Sum Sq     Mean Sq      F value     Pr(>F)      \n",
       "Temperature       1  19.060877  19.06087746   247.01990 1.195241e-54\n",
       "CPI               1   8.585865   8.58586470   111.26872 8.389172e-26\n",
       "Unemployment      1  20.692845  20.69284518   268.16943 4.414200e-59\n",
       "Type              1 788.687891 788.68789083 10221.01980 0.000000e+00\n",
       "Size              1 882.060737 882.06073671 11431.08746 0.000000e+00\n",
       "Week              1   5.630972   5.63097209    72.97472 1.622029e-17\n",
       "IsHolidayFixed    1   6.152638   6.15263810    79.73526 5.504553e-19\n",
       "Residuals      6427 495.928701   0.07716333          NA           NA"
      ]
     },
     "metadata": {},
     "output_type": "display_data"
    },
    {
     "data": {
      "text/plain": [
       "\n",
       "Call:\n",
       "lm(formula = log(Weekly_Sales) ~ Temperature + CPI + Unemployment + \n",
       "    Type + Size + Week + IsHolidayFixed, data = data.agg)\n",
       "\n",
       "Residuals:\n",
       "     Min       1Q   Median       3Q      Max \n",
       "-0.81593 -0.19451 -0.01737  0.18137  1.28001 \n",
       "\n",
       "Coefficients:\n",
       "                     Estimate Std. Error t value Pr(>|t|)    \n",
       "(Intercept)         1.239e+01  3.559e-02 348.100  < 2e-16 ***\n",
       "Temperature         3.799e-04  2.096e-04   1.812     0.07 .  \n",
       "CPI                -1.077e-03  9.509e-05 -11.325  < 2e-16 ***\n",
       "Unemployment       -1.440e-02  1.996e-03  -7.215 6.02e-13 ***\n",
       "Type                1.733e-01  8.071e-03  21.475  < 2e-16 ***\n",
       "Size                9.561e-06  8.943e-08 106.914  < 2e-16 ***\n",
       "Week                1.571e-03  2.613e-04   6.012 1.93e-09 ***\n",
       "IsHolidayFixedTRUE  7.654e-02  8.571e-03   8.929  < 2e-16 ***\n",
       "---\n",
       "Signif. codes:  0 '***' 0.001 '**' 0.01 '*' 0.05 '.' 0.1 ' ' 1\n",
       "\n",
       "Residual standard error: 0.2778 on 6427 degrees of freedom\n",
       "Multiple R-squared:  0.7773,\tAdjusted R-squared:  0.777 \n",
       "F-statistic:  3204 on 7 and 6427 DF,  p-value: < 2.2e-16\n"
      ]
     },
     "metadata": {},
     "output_type": "display_data"
    }
   ],
   "source": [
    "anova(agg_model1 )\n",
    "summary(agg_model1)"
   ]
  },
  {
   "cell_type": "code",
   "execution_count": 8,
   "metadata": {},
   "outputs": [
    {
     "data": {
      "text/html": [
       "<ol class=list-inline>\n",
       "\t<li>6435</li>\n",
       "\t<li>12</li>\n",
       "</ol>\n"
      ],
      "text/latex": [
       "\\begin{enumerate*}\n",
       "\\item 6435\n",
       "\\item 12\n",
       "\\end{enumerate*}\n"
      ],
      "text/markdown": [
       "1. 6435\n",
       "2. 12\n",
       "\n",
       "\n"
      ],
      "text/plain": [
       "[1] 6435   12"
      ]
     },
     "metadata": {},
     "output_type": "display_data"
    }
   ],
   "source": [
    "dim(data.agg)"
   ]
  },
  {
   "cell_type": "code",
   "execution_count": 108,
   "metadata": {
    "scrolled": false
   },
   "outputs": [
    {
     "data": {
      "image/png": "[encoded data removed]",
      "text/plain": [
       "Plot with title \"\""
      ]
     },
     "metadata": {},
     "output_type": "display_data"
    }
   ],
   "source": [
    "agg_model2 <- lm(log(Weekly_Sales) ~ Temperature + CPI + Unemployment + Size + IsHolidayFixed,\n",
    "data=data.agg)\n",
    "par(mfrow=c(2,2))\n",
    "plot(agg_model2)"
   ]
  },
  {
   "cell_type": "code",
   "execution_count": 86,
   "metadata": {},
   "outputs": [
    {
     "data": {
      "text/plain": [
       "\n",
       "Call:\n",
       "lm(formula = log(Weekly_Sales) ~ Temperature + Fuel_Price + CPI + \n",
       "    Unemployment + Size + IsHolidayFixed, data = data.agg)\n",
       "\n",
       "Coefficients:\n",
       "       (Intercept)         Temperature          Fuel_Price                 CPI  \n",
       "         1.288e+01           6.305e-04          -9.242e-04          -1.220e-03  \n",
       "      Unemployment                Size  IsHolidayFixedTRUE  \n",
       "        -9.428e-03           8.060e-06           8.788e-02  \n"
      ]
     },
     "metadata": {},
     "output_type": "display_data"
    },
    {
     "data": {
      "text/plain": [
       "\n",
       "Call:\n",
       "lm(formula = log(Weekly_Sales) ~ Temperature + Fuel_Price + CPI + \n",
       "    Unemployment + Size + IsHolidayFixed, data = data.agg)\n",
       "\n",
       "Residuals:\n",
       "     Min       1Q   Median       3Q      Max \n",
       "-0.80271 -0.20848 -0.02216  0.19916  1.35641 \n",
       "\n",
       "Coefficients:\n",
       "                     Estimate Std. Error t value Pr(>|t|)    \n",
       "(Intercept)         1.288e+01  4.258e-02 302.494  < 2e-16 ***\n",
       "Temperature         6.305e-04  2.109e-04   2.989  0.00281 ** \n",
       "Fuel_Price         -9.242e-04  8.158e-03  -0.113  0.90981    \n",
       "CPI                -1.220e-03  1.010e-04 -12.072  < 2e-16 ***\n",
       "Unemployment       -9.428e-03  2.063e-03  -4.570 4.97e-06 ***\n",
       "Size                8.060e-06  5.742e-08 140.375  < 2e-16 ***\n",
       "IsHolidayFixedTRUE  8.788e-02  8.622e-03  10.192  < 2e-16 ***\n",
       "---\n",
       "Signif. codes:  0 '***' 0.001 '**' 0.01 '*' 0.05 '.' 0.1 ' ' 1\n",
       "\n",
       "Residual standard error: 0.2884 on 6428 degrees of freedom\n",
       "Multiple R-squared:  0.7599,\tAdjusted R-squared:  0.7597 \n",
       "F-statistic:  3391 on 6 and 6428 DF,  p-value: < 2.2e-16\n"
      ]
     },
     "metadata": {},
     "output_type": "display_data"
    }
   ],
   "source": [
    "agg_model2\n",
    "summary(agg_model2)"
   ]
  },
  {
   "cell_type": "code",
   "execution_count": 87,
   "metadata": {},
   "outputs": [
    {
     "data": {
      "text/html": [
       "<table>\n",
       "<thead><tr><th></th><th scope=col>Df</th><th scope=col>Sum Sq</th><th scope=col>Mean Sq</th><th scope=col>F value</th><th scope=col>Pr(&gt;F)</th></tr></thead>\n",
       "<tbody>\n",
       "\t<tr><th scope=row>Temperature</th><td>   1        </td><td>  19.060877 </td><td>1.906088e+01</td><td>  229.20065 </td><td>6.668635e-51</td></tr>\n",
       "\t<tr><th scope=row>Fuel_Price</th><td>   1        </td><td>   2.356106 </td><td>2.356106e+00</td><td>   28.33138 </td><td>1.056864e-07</td></tr>\n",
       "\t<tr><th scope=row>CPI</th><td>   1        </td><td>   7.159325 </td><td>7.159325e+00</td><td>   86.08848 </td><td>2.304800e-20</td></tr>\n",
       "\t<tr><th scope=row>Unemployment</th><td>   1        </td><td>  19.921142 </td><td>1.992114e+01</td><td>  239.54503 </td><td>4.442560e-53</td></tr>\n",
       "\t<tr><th scope=row>Size</th><td>   1        </td><td>1635.095643 </td><td>1.635096e+03</td><td>19661.47557 </td><td>0.000000e+00</td></tr>\n",
       "\t<tr><th scope=row>IsHolidayFixed</th><td>   1        </td><td>   8.639478 </td><td>8.639478e+00</td><td>  103.88682 </td><td>3.270831e-24</td></tr>\n",
       "\t<tr><th scope=row>Residuals</th><td>6428        </td><td> 534.567955 </td><td>8.316241e-02</td><td>         NA </td><td>          NA</td></tr>\n",
       "</tbody>\n",
       "</table>\n"
      ],
      "text/latex": [
       "\\begin{tabular}{r|lllll}\n",
       "  & Df & Sum Sq & Mean Sq & F value & Pr(>F)\\\\\n",
       "\\hline\n",
       "\tTemperature &    1         &   19.060877  & 1.906088e+01 &   229.20065  & 6.668635e-51\\\\\n",
       "\tFuel\\_Price &    1         &    2.356106  & 2.356106e+00 &    28.33138  & 1.056864e-07\\\\\n",
       "\tCPI &    1         &    7.159325  & 7.159325e+00 &    86.08848  & 2.304800e-20\\\\\n",
       "\tUnemployment &    1         &   19.921142  & 1.992114e+01 &   239.54503  & 4.442560e-53\\\\\n",
       "\tSize &    1         & 1635.095643  & 1.635096e+03 & 19661.47557  & 0.000000e+00\\\\\n",
       "\tIsHolidayFixed &    1         &    8.639478  & 8.639478e+00 &   103.88682  & 3.270831e-24\\\\\n",
       "\tResiduals & 6428         &  534.567955  & 8.316241e-02 &          NA  &           NA\\\\\n",
       "\\end{tabular}\n"
      ],
      "text/markdown": [
       "\n",
       "| <!--/--> | Df | Sum Sq | Mean Sq | F value | Pr(>F) | \n",
       "|---|---|---|---|---|---|---|\n",
       "| Temperature |    1         |   19.060877  | 1.906088e+01 |   229.20065  | 6.668635e-51 | \n",
       "| Fuel_Price |    1         |    2.356106  | 2.356106e+00 |    28.33138  | 1.056864e-07 | \n",
       "| CPI |    1         |    7.159325  | 7.159325e+00 |    86.08848  | 2.304800e-20 | \n",
       "| Unemployment |    1         |   19.921142  | 1.992114e+01 |   239.54503  | 4.442560e-53 | \n",
       "| Size |    1         | 1635.095643  | 1.635096e+03 | 19661.47557  | 0.000000e+00 | \n",
       "| IsHolidayFixed |    1         |    8.639478  | 8.639478e+00 |   103.88682  | 3.270831e-24 | \n",
       "| Residuals | 6428         |  534.567955  | 8.316241e-02 |          NA  |           NA | \n",
       "\n",
       "\n"
      ],
      "text/plain": [
       "               Df   Sum Sq      Mean Sq      F value     Pr(>F)      \n",
       "Temperature       1   19.060877 1.906088e+01   229.20065 6.668635e-51\n",
       "Fuel_Price        1    2.356106 2.356106e+00    28.33138 1.056864e-07\n",
       "CPI               1    7.159325 7.159325e+00    86.08848 2.304800e-20\n",
       "Unemployment      1   19.921142 1.992114e+01   239.54503 4.442560e-53\n",
       "Size              1 1635.095643 1.635096e+03 19661.47557 0.000000e+00\n",
       "IsHolidayFixed    1    8.639478 8.639478e+00   103.88682 3.270831e-24\n",
       "Residuals      6428  534.567955 8.316241e-02          NA           NA"
      ]
     },
     "metadata": {},
     "output_type": "display_data"
    }
   ],
   "source": [
    "anova(agg_model2)"
   ]
  },
  {
   "cell_type": "code",
   "execution_count": 7,
   "metadata": {},
   "outputs": [
    {
     "data": {
      "image/png": "[encoded data removed]",
      "text/plain": [
       "Plot with title \"\""
      ]
     },
     "metadata": {},
     "output_type": "display_data"
    },
    {
     "data": {
      "image/png": "[encoded data removed]",
      "text/plain": [
       "Plot with title \"\""
      ]
     },
     "metadata": {},
     "output_type": "display_data"
    },
    {
     "data": {
      "image/png": "[encoded data removed]",
      "text/plain": [
       "Plot with title \"\""
      ]
     },
     "metadata": {},
     "output_type": "display_data"
    },
    {
     "data": {
      "image/png": "[encoded data removed]",
      "text/plain": [
       "Plot with title \"\""
      ]
     },
     "metadata": {},
     "output_type": "display_data"
    }
   ],
   "source": [
    "agg_model3 <- lm(log(Weekly_Sales) ~ IsHoliday + Temperature + CPI + Unemployment + Type + Size + Week + IsHolidayFixed,\n",
    "data=data.agg)\n",
    "#par(mfrow=c(2,2))\n",
    "plot(agg_model3)"
   ]
  },
  {
   "cell_type": "code",
   "execution_count": 12,
   "metadata": {},
   "outputs": [
    {
     "data": {
      "text/html": [
       "<table>\n",
       "<thead><tr><th></th><th scope=col>Df</th><th scope=col>Sum Sq</th><th scope=col>Mean Sq</th><th scope=col>F value</th><th scope=col>Pr(&gt;F)</th></tr></thead>\n",
       "<tbody>\n",
       "\t<tr><th scope=row>IsHoliday</th><td>   1        </td><td>  1.595824  </td><td>  1.59582407</td><td>   20.67886 </td><td>5.530877e-06</td></tr>\n",
       "\t<tr><th scope=row>Temperature</th><td>   1        </td><td> 17.817093  </td><td> 17.81709259</td><td>  230.87578 </td><td>2.962172e-51</td></tr>\n",
       "\t<tr><th scope=row>CPI</th><td>   1        </td><td>  8.682341  </td><td>  8.68234119</td><td>  112.50670 </td><td>4.541590e-26</td></tr>\n",
       "\t<tr><th scope=row>Unemployment</th><td>   1        </td><td> 20.952862  </td><td> 20.95286195</td><td>  271.50941 </td><td>8.839584e-60</td></tr>\n",
       "\t<tr><th scope=row>Type</th><td>   1        </td><td>788.950040  </td><td>788.95004020</td><td>10223.29852 </td><td>0.000000e+00</td></tr>\n",
       "\t<tr><th scope=row>Size</th><td>   1        </td><td>882.922411  </td><td>882.92241142</td><td>11441.00249 </td><td>0.000000e+00</td></tr>\n",
       "\t<tr><th scope=row>Week</th><td>   1        </td><td>  4.705929  </td><td>  4.70592893</td><td>   60.97993 </td><td>6.688710e-15</td></tr>\n",
       "\t<tr><th scope=row>IsHolidayFixed</th><td>   1        </td><td>  5.268233  </td><td>  5.26823267</td><td>   68.26632 </td><td>1.719160e-16</td></tr>\n",
       "\t<tr><th scope=row>Residuals</th><td>6426        </td><td>495.905793  </td><td>  0.07717177</td><td>         NA </td><td>          NA</td></tr>\n",
       "</tbody>\n",
       "</table>\n"
      ],
      "text/latex": [
       "\\begin{tabular}{r|lllll}\n",
       "  & Df & Sum Sq & Mean Sq & F value & Pr(>F)\\\\\n",
       "\\hline\n",
       "\tIsHoliday &    1         &   1.595824   &   1.59582407 &    20.67886  & 5.530877e-06\\\\\n",
       "\tTemperature &    1         &  17.817093   &  17.81709259 &   230.87578  & 2.962172e-51\\\\\n",
       "\tCPI &    1         &   8.682341   &   8.68234119 &   112.50670  & 4.541590e-26\\\\\n",
       "\tUnemployment &    1         &  20.952862   &  20.95286195 &   271.50941  & 8.839584e-60\\\\\n",
       "\tType &    1         & 788.950040   & 788.95004020 & 10223.29852  & 0.000000e+00\\\\\n",
       "\tSize &    1         & 882.922411   & 882.92241142 & 11441.00249  & 0.000000e+00\\\\\n",
       "\tWeek &    1         &   4.705929   &   4.70592893 &    60.97993  & 6.688710e-15\\\\\n",
       "\tIsHolidayFixed &    1         &   5.268233   &   5.26823267 &    68.26632  & 1.719160e-16\\\\\n",
       "\tResiduals & 6426         & 495.905793   &   0.07717177 &          NA  &           NA\\\\\n",
       "\\end{tabular}\n"
      ],
      "text/markdown": [
       "\n",
       "| <!--/--> | Df | Sum Sq | Mean Sq | F value | Pr(>F) | \n",
       "|---|---|---|---|---|---|---|---|---|\n",
       "| IsHoliday |    1         |   1.595824   |   1.59582407 |    20.67886  | 5.530877e-06 | \n",
       "| Temperature |    1         |  17.817093   |  17.81709259 |   230.87578  | 2.962172e-51 | \n",
       "| CPI |    1         |   8.682341   |   8.68234119 |   112.50670  | 4.541590e-26 | \n",
       "| Unemployment |    1         |  20.952862   |  20.95286195 |   271.50941  | 8.839584e-60 | \n",
       "| Type |    1         | 788.950040   | 788.95004020 | 10223.29852  | 0.000000e+00 | \n",
       "| Size |    1         | 882.922411   | 882.92241142 | 11441.00249  | 0.000000e+00 | \n",
       "| Week |    1         |   4.705929   |   4.70592893 |    60.97993  | 6.688710e-15 | \n",
       "| IsHolidayFixed |    1         |   5.268233   |   5.26823267 |    68.26632  | 1.719160e-16 | \n",
       "| Residuals | 6426         | 495.905793   |   0.07717177 |          NA  |           NA | \n",
       "\n",
       "\n"
      ],
      "text/plain": [
       "               Df   Sum Sq     Mean Sq      F value     Pr(>F)      \n",
       "IsHoliday         1   1.595824   1.59582407    20.67886 5.530877e-06\n",
       "Temperature       1  17.817093  17.81709259   230.87578 2.962172e-51\n",
       "CPI               1   8.682341   8.68234119   112.50670 4.541590e-26\n",
       "Unemployment      1  20.952862  20.95286195   271.50941 8.839584e-60\n",
       "Type              1 788.950040 788.95004020 10223.29852 0.000000e+00\n",
       "Size              1 882.922411 882.92241142 11441.00249 0.000000e+00\n",
       "Week              1   4.705929   4.70592893    60.97993 6.688710e-15\n",
       "IsHolidayFixed    1   5.268233   5.26823267    68.26632 1.719160e-16\n",
       "Residuals      6426 495.905793   0.07717177          NA           NA"
      ]
     },
     "metadata": {},
     "output_type": "display_data"
    }
   ],
   "source": [
    "anova(agg_model3)"
   ]
  },
  {
   "cell_type": "code",
   "execution_count": 8,
   "metadata": {},
   "outputs": [
    {
     "data": {
      "image/png": "[encoded data removed]",
      "text/plain": [
       "Plot with title \"\""
      ]
     },
     "metadata": {},
     "output_type": "display_data"
    }
   ],
   "source": [
    "agg_model4 <- lm(log(Weekly_Sales) ~ IsHoliday + Temperature + Fuel_Price + CPI + Unemployment + Type + Size, data=data.agg)\n",
    "par(mfrow=c(2,2))\n",
    "plot(agg_model4)"
   ]
  },
  {
   "cell_type": "code",
   "execution_count": 14,
   "metadata": {
    "scrolled": false
   },
   "outputs": [
    {
     "data": {
      "text/html": [
       "<table>\n",
       "<thead><tr><th></th><th scope=col>Df</th><th scope=col>Sum Sq</th><th scope=col>Mean Sq</th><th scope=col>F value</th><th scope=col>Pr(&gt;F)</th></tr></thead>\n",
       "<tbody>\n",
       "\t<tr><th scope=row>IsHoliday</th><td>   1        </td><td>  1.595824  </td><td>  1.59582407</td><td>   20.28056 </td><td>6.805832e-06</td></tr>\n",
       "\t<tr><th scope=row>Temperature</th><td>   1        </td><td> 17.817093  </td><td> 17.81709259</td><td>  226.42881 </td><td>2.558535e-50</td></tr>\n",
       "\t<tr><th scope=row>Fuel_Price</th><td>   1        </td><td>  2.469416  </td><td>  2.46941608</td><td>   31.38261 </td><td>2.206464e-08</td></tr>\n",
       "\t<tr><th scope=row>CPI</th><td>   1        </td><td>  7.215033  </td><td>  7.21503309</td><td>   91.69236 </td><td>1.409843e-21</td></tr>\n",
       "\t<tr><th scope=row>Unemployment</th><td>   1        </td><td> 20.143338  </td><td> 20.14333753</td><td>  255.99193 </td><td>1.567397e-56</td></tr>\n",
       "\t<tr><th scope=row>Type</th><td>   1        </td><td>789.609514  </td><td>789.60951380</td><td>10034.76512 </td><td>0.000000e+00</td></tr>\n",
       "\t<tr><th scope=row>Size</th><td>   1        </td><td>882.226429  </td><td>882.22642934</td><td>11211.78867 </td><td>0.000000e+00</td></tr>\n",
       "\t<tr><th scope=row>Residuals</th><td>6427        </td><td>505.723880  </td><td>  0.07868739</td><td>         NA </td><td>          NA</td></tr>\n",
       "</tbody>\n",
       "</table>\n"
      ],
      "text/latex": [
       "\\begin{tabular}{r|lllll}\n",
       "  & Df & Sum Sq & Mean Sq & F value & Pr(>F)\\\\\n",
       "\\hline\n",
       "\tIsHoliday &    1         &   1.595824   &   1.59582407 &    20.28056  & 6.805832e-06\\\\\n",
       "\tTemperature &    1         &  17.817093   &  17.81709259 &   226.42881  & 2.558535e-50\\\\\n",
       "\tFuel\\_Price &    1         &   2.469416   &   2.46941608 &    31.38261  & 2.206464e-08\\\\\n",
       "\tCPI &    1         &   7.215033   &   7.21503309 &    91.69236  & 1.409843e-21\\\\\n",
       "\tUnemployment &    1         &  20.143338   &  20.14333753 &   255.99193  & 1.567397e-56\\\\\n",
       "\tType &    1         & 789.609514   & 789.60951380 & 10034.76512  & 0.000000e+00\\\\\n",
       "\tSize &    1         & 882.226429   & 882.22642934 & 11211.78867  & 0.000000e+00\\\\\n",
       "\tResiduals & 6427         & 505.723880   &   0.07868739 &          NA  &           NA\\\\\n",
       "\\end{tabular}\n"
      ],
      "text/markdown": [
       "\n",
       "| <!--/--> | Df | Sum Sq | Mean Sq | F value | Pr(>F) | \n",
       "|---|---|---|---|---|---|---|---|\n",
       "| IsHoliday |    1         |   1.595824   |   1.59582407 |    20.28056  | 6.805832e-06 | \n",
       "| Temperature |    1         |  17.817093   |  17.81709259 |   226.42881  | 2.558535e-50 | \n",
       "| Fuel_Price |    1         |   2.469416   |   2.46941608 |    31.38261  | 2.206464e-08 | \n",
       "| CPI |    1         |   7.215033   |   7.21503309 |    91.69236  | 1.409843e-21 | \n",
       "| Unemployment |    1         |  20.143338   |  20.14333753 |   255.99193  | 1.567397e-56 | \n",
       "| Type |    1         | 789.609514   | 789.60951380 | 10034.76512  | 0.000000e+00 | \n",
       "| Size |    1         | 882.226429   | 882.22642934 | 11211.78867  | 0.000000e+00 | \n",
       "| Residuals | 6427         | 505.723880   |   0.07868739 |          NA  |           NA | \n",
       "\n",
       "\n"
      ],
      "text/plain": [
       "             Df   Sum Sq     Mean Sq      F value     Pr(>F)      \n",
       "IsHoliday       1   1.595824   1.59582407    20.28056 6.805832e-06\n",
       "Temperature     1  17.817093  17.81709259   226.42881 2.558535e-50\n",
       "Fuel_Price      1   2.469416   2.46941608    31.38261 2.206464e-08\n",
       "CPI             1   7.215033   7.21503309    91.69236 1.409843e-21\n",
       "Unemployment    1  20.143338  20.14333753   255.99193 1.567397e-56\n",
       "Type            1 789.609514 789.60951380 10034.76512 0.000000e+00\n",
       "Size            1 882.226429 882.22642934 11211.78867 0.000000e+00\n",
       "Residuals    6427 505.723880   0.07868739          NA           NA"
      ]
     },
     "metadata": {},
     "output_type": "display_data"
    }
   ],
   "source": [
    "anova(agg_model4)"
   ]
  },
  {
   "cell_type": "code",
   "execution_count": 22,
   "metadata": {},
   "outputs": [
    {
     "data": {
      "image/png": "[encoded data removed]",
      "text/plain": [
       "Plot with title \"\""
      ]
     },
     "metadata": {},
     "output_type": "display_data"
    }
   ],
   "source": [
    "agg_model5 <- lm(log(Weekly_Sales) ~ Temperature + Fuel_Price + CPI +  Unemployment + Type + Size + Week  \n",
    "                       + CPI*Unemployment,\n",
    "                       data=data.agg)\n",
    "par(mfrow=c(2,2))\n",
    "plot(agg_model5)"
   ]
  },
  {
   "cell_type": "code",
   "execution_count": 23,
   "metadata": {},
   "outputs": [
    {
     "data": {
      "text/plain": [
       "\n",
       "Call:\n",
       "lm(formula = log(Weekly_Sales) ~ Temperature + Fuel_Price + CPI + \n",
       "    Unemployment + Type + Size + Week + CPI * Unemployment, data = data.agg)\n",
       "\n",
       "Residuals:\n",
       "     Min       1Q   Median       3Q      Max \n",
       "-0.76128 -0.18662 -0.01123  0.17032  1.35150 \n",
       "\n",
       "Coefficients:\n",
       "                   Estimate Std. Error t value Pr(>|t|)    \n",
       "(Intercept)       1.379e+01  7.980e-02 172.836   <2e-16 ***\n",
       "Temperature       2.680e-04  2.008e-04   1.335    0.182    \n",
       "Fuel_Price        1.246e-02  7.746e-03   1.608    0.108    \n",
       "CPI              -1.084e-02  4.868e-04 -22.265   <2e-16 ***\n",
       "Unemployment     -1.981e-01  9.207e-03 -21.519   <2e-16 ***\n",
       "Type              1.540e-01  7.928e-03  19.428   <2e-16 ***\n",
       "Size              9.427e-06  8.743e-08 107.820   <2e-16 ***\n",
       "Week              2.080e-03  2.475e-04   8.407   <2e-16 ***\n",
       "CPI:Unemployment  1.304e-03  6.355e-05  20.526   <2e-16 ***\n",
       "---\n",
       "Signif. codes:  0 '***' 0.001 '**' 0.01 '*' 0.05 '.' 0.1 ' ' 1\n",
       "\n",
       "Residual standard error: 0.2708 on 6426 degrees of freedom\n",
       "Multiple R-squared:  0.7884,\tAdjusted R-squared:  0.7882 \n",
       "F-statistic:  2993 on 8 and 6426 DF,  p-value: < 2.2e-16\n"
      ]
     },
     "metadata": {},
     "output_type": "display_data"
    }
   ],
   "source": [
    "summary(agg_model5)"
   ]
  },
  {
   "cell_type": "code",
   "execution_count": 16,
   "metadata": {},
   "outputs": [
    {
     "data": {
      "text/html": [
       "<table>\n",
       "<thead><tr><th></th><th scope=col>Df</th><th scope=col>Sum Sq</th><th scope=col>Mean Sq</th><th scope=col>F value</th><th scope=col>Pr(&gt;F)</th></tr></thead>\n",
       "<tbody>\n",
       "\t<tr><th scope=row>Temperature</th><td>   1        </td><td> 19.060877  </td><td> 19.06087746</td><td>  259.98229 </td><td>2.286062e-57</td></tr>\n",
       "\t<tr><th scope=row>Fuel_Price</th><td>   1        </td><td>  2.356106  </td><td>  2.35610556</td><td>   32.13628 </td><td>1.499693e-08</td></tr>\n",
       "\t<tr><th scope=row>CPI</th><td>   1        </td><td>  7.159325  </td><td>  7.15932533</td><td>   97.65016 </td><td>7.262046e-23</td></tr>\n",
       "\t<tr><th scope=row>Unemployment</th><td>   1        </td><td> 19.921142  </td><td> 19.92114150</td><td>  271.71593 </td><td>8.002921e-60</td></tr>\n",
       "\t<tr><th scope=row>Type</th><td>   1        </td><td>789.293701  </td><td>789.29370065</td><td>10765.63170 </td><td>0.000000e+00</td></tr>\n",
       "\t<tr><th scope=row>Size</th><td>   1        </td><td>881.508652  </td><td>881.50865190</td><td>12023.40457 </td><td>0.000000e+00</td></tr>\n",
       "\t<tr><th scope=row>Week</th><td>   1        </td><td>  5.483841  </td><td>  5.48384070</td><td>   74.79726 </td><td>6.511051e-18</td></tr>\n",
       "\t<tr><th scope=row>CPI:Unemployment</th><td>   1        </td><td> 30.887881  </td><td> 30.88788081</td><td>  421.29761 </td><td>9.833932e-91</td></tr>\n",
       "\t<tr><th scope=row>Residuals</th><td>6426        </td><td>471.129002  </td><td>  0.07331606</td><td>         NA </td><td>          NA</td></tr>\n",
       "</tbody>\n",
       "</table>\n"
      ],
      "text/latex": [
       "\\begin{tabular}{r|lllll}\n",
       "  & Df & Sum Sq & Mean Sq & F value & Pr(>F)\\\\\n",
       "\\hline\n",
       "\tTemperature &    1         &  19.060877   &  19.06087746 &   259.98229  & 2.286062e-57\\\\\n",
       "\tFuel\\_Price &    1         &   2.356106   &   2.35610556 &    32.13628  & 1.499693e-08\\\\\n",
       "\tCPI &    1         &   7.159325   &   7.15932533 &    97.65016  & 7.262046e-23\\\\\n",
       "\tUnemployment &    1         &  19.921142   &  19.92114150 &   271.71593  & 8.002921e-60\\\\\n",
       "\tType &    1         & 789.293701   & 789.29370065 & 10765.63170  & 0.000000e+00\\\\\n",
       "\tSize &    1         & 881.508652   & 881.50865190 & 12023.40457  & 0.000000e+00\\\\\n",
       "\tWeek &    1         &   5.483841   &   5.48384070 &    74.79726  & 6.511051e-18\\\\\n",
       "\tCPI:Unemployment &    1         &  30.887881   &  30.88788081 &   421.29761  & 9.833932e-91\\\\\n",
       "\tResiduals & 6426         & 471.129002   &   0.07331606 &          NA  &           NA\\\\\n",
       "\\end{tabular}\n"
      ],
      "text/markdown": [
       "\n",
       "| <!--/--> | Df | Sum Sq | Mean Sq | F value | Pr(>F) | \n",
       "|---|---|---|---|---|---|---|---|---|\n",
       "| Temperature |    1         |  19.060877   |  19.06087746 |   259.98229  | 2.286062e-57 | \n",
       "| Fuel_Price |    1         |   2.356106   |   2.35610556 |    32.13628  | 1.499693e-08 | \n",
       "| CPI |    1         |   7.159325   |   7.15932533 |    97.65016  | 7.262046e-23 | \n",
       "| Unemployment |    1         |  19.921142   |  19.92114150 |   271.71593  | 8.002921e-60 | \n",
       "| Type |    1         | 789.293701   | 789.29370065 | 10765.63170  | 0.000000e+00 | \n",
       "| Size |    1         | 881.508652   | 881.50865190 | 12023.40457  | 0.000000e+00 | \n",
       "| Week |    1         |   5.483841   |   5.48384070 |    74.79726  | 6.511051e-18 | \n",
       "| CPI:Unemployment |    1         |  30.887881   |  30.88788081 |   421.29761  | 9.833932e-91 | \n",
       "| Residuals | 6426         | 471.129002   |   0.07331606 |          NA  |           NA | \n",
       "\n",
       "\n"
      ],
      "text/plain": [
       "                 Df   Sum Sq     Mean Sq      F value     Pr(>F)      \n",
       "Temperature         1  19.060877  19.06087746   259.98229 2.286062e-57\n",
       "Fuel_Price          1   2.356106   2.35610556    32.13628 1.499693e-08\n",
       "CPI                 1   7.159325   7.15932533    97.65016 7.262046e-23\n",
       "Unemployment        1  19.921142  19.92114150   271.71593 8.002921e-60\n",
       "Type                1 789.293701 789.29370065 10765.63170 0.000000e+00\n",
       "Size                1 881.508652 881.50865190 12023.40457 0.000000e+00\n",
       "Week                1   5.483841   5.48384070    74.79726 6.511051e-18\n",
       "CPI:Unemployment    1  30.887881  30.88788081   421.29761 9.833932e-91\n",
       "Residuals        6426 471.129002   0.07331606          NA           NA"
      ]
     },
     "metadata": {},
     "output_type": "display_data"
    }
   ],
   "source": [
    "anova(agg_model5)"
   ]
  },
  {
   "cell_type": "code",
   "execution_count": null,
   "metadata": {
    "collapsed": true
   },
   "outputs": [],
   "source": [
    "summary(lm(log(Weekly_Sales) ~ Temperature + Fuel_Price + CPI + Unemployment + Size + factor(Type)+ IsHolidayFixed,\n",
    "data=data.agg))"
   ]
  },
  {
   "cell_type": "code",
   "execution_count": null,
   "metadata": {
    "collapsed": true
   },
   "outputs": [],
   "source": []
  },
  {
   "cell_type": "code",
   "execution_count": 109,
   "metadata": {
    "collapsed": true
   },
   "outputs": [],
   "source": [
    "#DFBETAS\n",
    "#DFFITS\n",
    "#COOK'S DISTANCE\n",
    "dfbeta1 = dfbetas(agg_model1)\n",
    "dfbeta2 = dfbetas(agg_model2)\n",
    "dfbeta3 = dfbetas(agg_model3)\n",
    "dfbeta4 = dfbetas(agg_model4)\n",
    "dfbeta5 = dfbetas(agg_model5)\n",
    "#dfbeta1"
   ]
  },
  {
   "cell_type": "code",
   "execution_count": null,
   "metadata": {
    "collapsed": true
   },
   "outputs": [],
   "source": [
    "ones=rep(1,nrow(data.agg))\n",
    "x=cbind(ones,data.agg$Temperature,data.agg$CPI,data.agg$Unemployment,data.agg$Type,\n",
    "        data.agg$Size,data.agg$Week,data.agg$IsHolidayFixed)\n",
    "y=log(data.agg$Weekly_Sales)\n",
    "h=x%*%solve(t(x)%*%x)%*%t(x)\n",
    "i=diag(nrow(data.agg))\n",
    "e=(i-h)%*%y\n",
    "hii=diag(h)\n",
    "mse=anova(agg_model1)$Mean[8]\n",
    "sse=anova(agg_model1)$Sum[8]\n",
    "ti=e*(sqrt((nrow(data.agg)-4-1)/((sse*(1-hii))-(e^2))))\n",
    "dffits1=ti*sqrt(hii/(1-hii))\n",
    "cookdist1=((e^2)/(4*mse))*(hii/((1-hii)^2))\n",
    "#Temperature + CPI + Unemployment + Type + Size + Week + IsHolidayFixed"
   ]
  },
  {
   "cell_type": "code",
   "execution_count": null,
   "metadata": {
    "collapsed": true
   },
   "outputs": [],
   "source": [
    "test= which(abs(ti)> qt(1-((0.1)/(2*nrow(data.agg))), (nrow(data.agg)-8-1)) )\n",
    "diagres = which(hii > (2*8/nrow(data.agg)))\n",
    "\n",
    "test\n",
    "\n",
    "diagres"
   ]
  },
  {
   "cell_type": "code",
   "execution_count": null,
   "metadata": {
    "collapsed": true
   },
   "outputs": [],
   "source": [
    "which(abs(cookdist1)>qf(1/nrow(data.agg),8,nrow(data.agg)-8))"
   ]
  },
  {
   "cell_type": "code",
   "execution_count": null,
   "metadata": {
    "collapsed": true,
    "scrolled": false
   },
   "outputs": [],
   "source": [
    "which(abs(cookdist1)>qf(1/nrow(data.agg),8,nrow(data.agg)-8))\n",
    "dffitres = which(abs(dffits1)>(2*sqrt(8/nrow(data.agg))))\n",
    "#which(test == diagres)\n",
    "dfbetares = which(abs(dfbeta1)>(2/sqrt(nrow(data.agg))))\n",
    "\n",
    "dffitres\n",
    "\n",
    "dfbetares\n"
   ]
  },
  {
   "cell_type": "code",
   "execution_count": 111,
   "metadata": {
    "collapsed": true
   },
   "outputs": [],
   "source": [
    "ones=rep(1,nrow(data.agg))\n",
    "x=cbind(ones,data.agg$Temperature, data.agg$CPI,data.agg$Unemployment,\n",
    "        data.agg$Size,data.agg$IsHolidayFixed)\n",
    "y=log(data.agg$Weekly_Sales)\n",
    "h=x%*%solve(t(x)%*%x)%*%t(x)\n",
    "i=diag(nrow(data.agg))\n",
    "e=(i-h)%*%y\n",
    "hii=diag(h)\n",
    "mse=anova(agg_model1)$Mean[6]\n",
    "sse=anova(agg_model1)$Sum[6]\n",
    "ti=e*(sqrt((nrow(data.agg)-4-1)/((sse*(1-hii))-(e^2))))\n",
    "dffits2=ti*sqrt(hii/(1-hii))\n",
    "cookdist2=((e^2)/(4*mse))*(hii/((1-hii)^2))\n",
    "#Temperature + Fuel_Price + CPI + Unemployment + Type + Size + Week + IsHolidayFixed"
   ]
  },
  {
   "cell_type": "code",
   "execution_count": 112,
   "metadata": {
    "scrolled": true
   },
   "outputs": [
    {
     "data": {
      "text/html": [
       "1489"
      ],
      "text/latex": [
       "1489"
      ],
      "text/markdown": [
       "1489"
      ],
      "text/plain": [
       "[1] 1489"
      ]
     },
     "metadata": {},
     "output_type": "display_data"
    },
    {
     "data": {
      "text/html": [
       "3114"
      ],
      "text/latex": [
       "3114"
      ],
      "text/markdown": [
       "3114"
      ],
      "text/plain": [
       "[1] 3114"
      ]
     },
     "metadata": {},
     "output_type": "display_data"
    },
    {
     "data": {
      "text/html": [
       "3127"
      ],
      "text/latex": [
       "3127"
      ],
      "text/markdown": [
       "3127"
      ],
      "text/plain": [
       "[1] 3127"
      ]
     },
     "metadata": {},
     "output_type": "display_data"
    },
    {
     "data": {
      "text/html": [
       "1502"
      ],
      "text/latex": [
       "1502"
      ],
      "text/markdown": [
       "1502"
      ],
      "text/plain": [
       "[1] 1502"
      ]
     },
     "metadata": {},
     "output_type": "display_data"
    },
    {
     "data": {
      "text/html": [
       "1376"
      ],
      "text/latex": [
       "1376"
      ],
      "text/markdown": [
       "1376"
      ],
      "text/plain": [
       "[1] 1376"
      ]
     },
     "metadata": {},
     "output_type": "display_data"
    },
    {
     "name": "stdout",
     "output_type": "stream",
     "text": [
      "[1] \"Hidden Extrapolation\"\n"
     ]
    },
    {
     "data": {
      "text/html": [],
      "text/latex": [],
      "text/markdown": [],
      "text/plain": [
       "integer(0)"
      ]
     },
     "metadata": {},
     "output_type": "display_data"
    },
    {
     "data": {
      "text/html": [],
      "text/latex": [],
      "text/markdown": [],
      "text/plain": [
       "integer(0)"
      ]
     },
     "metadata": {},
     "output_type": "display_data"
    },
    {
     "data": {
      "text/html": [],
      "text/latex": [],
      "text/markdown": [],
      "text/plain": [
       "integer(0)"
      ]
     },
     "metadata": {},
     "output_type": "display_data"
    },
    {
     "data": {
      "text/html": [],
      "text/latex": [],
      "text/markdown": [],
      "text/plain": [
       "integer(0)"
      ]
     },
     "metadata": {},
     "output_type": "display_data"
    },
    {
     "data": {
      "text/html": [],
      "text/latex": [],
      "text/markdown": [],
      "text/plain": [
       "integer(0)"
      ]
     },
     "metadata": {},
     "output_type": "display_data"
    }
   ],
   "source": [
    "test= which(abs(ti)> qt(1-((0.1)/(2*nrow(data.agg))), (nrow(data.agg)-6-1)) )\n",
    "diagres = which(hii > (2*6/nrow(data.agg)))\n",
    "\n",
    "\n",
    "which(test ==2080)\n",
    "which(test ==4420)\n",
    "which(test ==4433)\n",
    "which(test ==2093)\n",
    "which(test ==1900)\n",
    "\n",
    "print(\"Hidden Extrapolation\")\n",
    "which(diagres ==2080)\n",
    "which(diagres ==4420)\n",
    "which(diagres ==4433)\n",
    "which(diagres ==2093)\n",
    "which(diagres ==1900)"
   ]
  },
  {
   "cell_type": "code",
   "execution_count": 113,
   "metadata": {},
   "outputs": [
    {
     "data": {
      "text/html": [],
      "text/latex": [],
      "text/markdown": [],
      "text/plain": [
       "integer(0)"
      ]
     },
     "metadata": {},
     "output_type": "display_data"
    }
   ],
   "source": [
    "which(abs(cookdist2)>qf(1/nrow(data.agg),6,nrow(data.agg)-6))"
   ]
  },
  {
   "cell_type": "code",
   "execution_count": 114,
   "metadata": {
    "scrolled": false
   },
   "outputs": [
    {
     "data": {
      "text/html": [
       "1807"
      ],
      "text/latex": [
       "1807"
      ],
      "text/markdown": [
       "1807"
      ],
      "text/plain": [
       "[1] 1807"
      ]
     },
     "metadata": {},
     "output_type": "display_data"
    },
    {
     "data": {
      "text/html": [
       "3792"
      ],
      "text/latex": [
       "3792"
      ],
      "text/markdown": [
       "3792"
      ],
      "text/plain": [
       "[1] 3792"
      ]
     },
     "metadata": {},
     "output_type": "display_data"
    },
    {
     "data": {
      "text/html": [
       "3805"
      ],
      "text/latex": [
       "3805"
      ],
      "text/markdown": [
       "3805"
      ],
      "text/plain": [
       "[1] 3805"
      ]
     },
     "metadata": {},
     "output_type": "display_data"
    },
    {
     "data": {
      "text/html": [
       "1820"
      ],
      "text/latex": [
       "1820"
      ],
      "text/markdown": [
       "1820"
      ],
      "text/plain": [
       "[1] 1820"
      ]
     },
     "metadata": {},
     "output_type": "display_data"
    },
    {
     "data": {
      "text/html": [
       "1651"
      ],
      "text/latex": [
       "1651"
      ],
      "text/markdown": [
       "1651"
      ],
      "text/plain": [
       "[1] 1651"
      ]
     },
     "metadata": {},
     "output_type": "display_data"
    },
    {
     "name": "stdout",
     "output_type": "stream",
     "text": [
      "[1] \"dfbetaresult\"\n",
      "[1] \"dfbeta2080\"\n"
     ]
    },
    {
     "data": {
      "text/html": [],
      "text/latex": [],
      "text/markdown": [],
      "text/plain": [
       "integer(0)"
      ]
     },
     "metadata": {},
     "output_type": "display_data"
    },
    {
     "name": "stdout",
     "output_type": "stream",
     "text": [
      "[1] \"dfbeta4420\"\n"
     ]
    },
    {
     "data": {
      "text/html": [
       "343"
      ],
      "text/latex": [
       "343"
      ],
      "text/markdown": [
       "343"
      ],
      "text/plain": [
       "[1] 343"
      ]
     },
     "metadata": {},
     "output_type": "display_data"
    },
    {
     "name": "stdout",
     "output_type": "stream",
     "text": [
      "[1] \"dfbeta4433\"\n"
     ]
    },
    {
     "data": {
      "text/html": [
       "349"
      ],
      "text/latex": [
       "349"
      ],
      "text/markdown": [
       "349"
      ],
      "text/plain": [
       "[1] 349"
      ]
     },
     "metadata": {},
     "output_type": "display_data"
    },
    {
     "name": "stdout",
     "output_type": "stream",
     "text": [
      "[1] \"dfbeta2093\"\n"
     ]
    },
    {
     "data": {
      "text/html": [
       "131"
      ],
      "text/latex": [
       "131"
      ],
      "text/markdown": [
       "131"
      ],
      "text/plain": [
       "[1] 131"
      ]
     },
     "metadata": {},
     "output_type": "display_data"
    },
    {
     "name": "stdout",
     "output_type": "stream",
     "text": [
      "[1] \"dfbeta1900\"\n"
     ]
    },
    {
     "data": {
      "text/html": [],
      "text/latex": [],
      "text/markdown": [],
      "text/plain": [
       "integer(0)"
      ]
     },
     "metadata": {},
     "output_type": "display_data"
    }
   ],
   "source": [
    "dffitres = which(abs(dffits2)>(2*sqrt(6/nrow(data.agg))))\n",
    "#which(test == diagres)\n",
    "dfbetares = which(abs(dfbeta2)>(2/sqrt(nrow(data.agg))))\n",
    "\n",
    "which(dffitres ==2080)\n",
    "which(dffitres ==4420)\n",
    "which(dffitres ==4433)\n",
    "which(dffitres ==2093)\n",
    "which(dffitres ==1900)\n",
    "print(\"dfbetaresult\")\n",
    "print(\"dfbeta2080\")\n",
    "which(dfbetares==2080)\n",
    "print(\"dfbeta4420\")\n",
    "which(dfbetares ==4420)\n",
    "print(\"dfbeta4433\")\n",
    "which(dfbetares ==4433)\n",
    "print(\"dfbeta2093\")\n",
    "which(dfbetares ==2093)\n",
    "print(\"dfbeta1900\")\n",
    "which(dfbetares ==1900)"
   ]
  },
  {
   "cell_type": "code",
   "execution_count": null,
   "metadata": {
    "collapsed": true
   },
   "outputs": [],
   "source": [
    "ones=rep(1,nrow(data.agg))\n",
    "x=cbind(ones,data.agg$Temperature, data.agg$IsHoliday, data.agg$CPI,data.agg$Unemployment,data.agg$Type,\n",
    "        data.agg$Size,data.agg$Week,data.agg$IsHolidayFixed)\n",
    "y=log(data.agg$Weekly_Sales)\n",
    "h=x%*%solve(t(x)%*%x)%*%t(x)\n",
    "i=diag(nrow(data.agg))\n",
    "e=(i-h)%*%y\n",
    "hii=diag(h)\n",
    "mse=anova(agg_model1)$Mean[9]\n",
    "sse=anova(agg_model1)$Sum[9]\n",
    "ti=e*(sqrt((nrow(data.agg)-4-1)/((sse*(1-hii))-(e^2))))\n",
    "dffits3=ti*sqrt(hii/(1-hii))\n",
    "cookdist3=((e^2)/(4*mse))*(hii/((1-hii)^2))\n",
    "#IsHoliday + Temperature + CPI + Unemployment + Type + Size + Week + IsHolidayFixed"
   ]
  },
  {
   "cell_type": "code",
   "execution_count": null,
   "metadata": {
    "collapsed": true
   },
   "outputs": [],
   "source": [
    "test= which(abs(ti)> qt(1-((0.1)/(2*nrow(data.agg))), (nrow(data.agg)-9-1)) )\n",
    "diagres = which(hii > (2*9/nrow(data.agg)))\n",
    "\n",
    "test\n",
    "\n",
    "diagres"
   ]
  },
  {
   "cell_type": "code",
   "execution_count": null,
   "metadata": {
    "collapsed": true
   },
   "outputs": [],
   "source": [
    "which(abs(cookdist3)>qf(1/nrow(data.agg),9,nrow(data.agg)-9))"
   ]
  },
  {
   "cell_type": "code",
   "execution_count": null,
   "metadata": {
    "collapsed": true,
    "scrolled": false
   },
   "outputs": [],
   "source": [
    "dffitres = which(abs(dffits3)>(2*sqrt(9/nrow(data.agg))))\n",
    "#which(test == diagres)\n",
    "dfbetares = which(abs(dfbeta3)>(2/sqrt(nrow(data.agg))))\n",
    "\n",
    "dffitres\n",
    "\n",
    "dfbetares"
   ]
  },
  {
   "cell_type": "code",
   "execution_count": null,
   "metadata": {
    "collapsed": true
   },
   "outputs": [],
   "source": [
    "ones=rep(1,nrow(data.agg))\n",
    "x=cbind(ones,data.agg$IsHoliday,data.agg$Temperature,data.agg$Fuel_Price, data.agg$CPI,\n",
    "        data.agg$Unemployment,data.agg$Type, data.agg$Size)\n",
    "y=log(data.agg$Weekly_Sales)\n",
    "h=x%*%solve(t(x)%*%x)%*%t(x)\n",
    "i=diag(nrow(data.agg))\n",
    "e=(i-h)%*%y\n",
    "hii=diag(h)\n",
    "mse=anova(agg_model1)$Mean[8]\n",
    "sse=anova(agg_model1)$Sum[8]\n",
    "ti=e*(sqrt((nrow(data.agg)-4-1)/((sse*(1-hii))-(e^2))))\n",
    "dffits4=ti*sqrt(hii/(1-hii))\n",
    "cookdist4=((e^2)/(4*mse))*(hii/((1-hii)^2))\n",
    "#IsHoliday + Temperature + Fuel_Price + CPI + Unemployment + Type + Size"
   ]
  },
  {
   "cell_type": "code",
   "execution_count": null,
   "metadata": {
    "collapsed": true
   },
   "outputs": [],
   "source": [
    "test= which(abs(ti)> qt(1-((0.1)/(2*nrow(data.agg))), (nrow(data.agg)-8-1)) )\n",
    "diagres = which(hii > (2*8/nrow(data.agg)))\n",
    "\n",
    "test\n",
    "\n",
    "diagres"
   ]
  },
  {
   "cell_type": "code",
   "execution_count": null,
   "metadata": {
    "collapsed": true
   },
   "outputs": [],
   "source": [
    "which(abs(cookdist4)>qf(1/nrow(data.agg),8,nrow(data.agg)-8))"
   ]
  },
  {
   "cell_type": "code",
   "execution_count": null,
   "metadata": {
    "collapsed": true,
    "scrolled": false
   },
   "outputs": [],
   "source": [
    "dffitres = which(abs(dffits4)>(2*sqrt(8/nrow(data.agg))))\n",
    "#which(test == diagres)\n",
    "dfbetares = which(abs(dfbeta4)>(2/sqrt(nrow(data.agg))))\n",
    "\n",
    "dffitres\n",
    "\n",
    "dfbetares"
   ]
  },
  {
   "cell_type": "code",
   "execution_count": null,
   "metadata": {
    "collapsed": true
   },
   "outputs": [],
   "source": [
    "ones=rep(1,nrow(data.agg))\n",
    "x=cbind(ones,data.agg$Temperature, data.agg$Fuel_Price, data.agg$CPI,data.agg$Unemployment,data.agg$Type,\n",
    "        data.agg$Size,data.agg$Week,data.agg$CPI*data.agg$Unemployment)\n",
    "y=log(data.agg$Weekly_Sales)\n",
    "h=x%*%solve(t(x)%*%x)%*%t(x)\n",
    "i=diag(nrow(data.agg))\n",
    "e=(i-h)%*%y\n",
    "hii=diag(h)\n",
    "mse=anova(agg_model1)$Mean[9]\n",
    "sse=anova(agg_model1)$Sum[9]\n",
    "ti=e*(sqrt((nrow(data.agg)-4-1)/((sse*(1-hii))-(e^2))))\n",
    "dffits5=ti*sqrt(hii/(1-hii))\n",
    "cookdist5=((e^2)/(4*mse))*(hii/((1-hii)^2))\n",
    "#Temperature + Fuel_Price + CPI +  Unemployment + Type + Size + Week  + CPI*Unemployment"
   ]
  },
  {
   "cell_type": "code",
   "execution_count": 128,
   "metadata": {},
   "outputs": [],
   "source": [
    "library(car)\n",
    "vif1 = vif(agg_model1)\n",
    "vif2 = vif(agg_model2)\n",
    "vif3 = vif(agg_model3)\n",
    "vif4 = vif(agg_model4)\n",
    "vif5 = vif(agg_model5)"
   ]
  },
  {
   "cell_type": "code",
   "execution_count": 129,
   "metadata": {},
   "outputs": [
    {
     "data": {
      "text/html": [
       "<dl class=dl-horizontal>\n",
       "\t<dt>Temperature</dt>\n",
       "\t\t<dd>1.2462809930823</dd>\n",
       "\t<dt>CPI</dt>\n",
       "\t\t<dd>1.16778624853179</dd>\n",
       "\t<dt>Unemployment</dt>\n",
       "\t\t<dd>1.16904867963517</dd>\n",
       "\t<dt>Type</dt>\n",
       "\t\t<dd>2.69338265883577</dd>\n",
       "\t<dt>Size</dt>\n",
       "\t\t<dd>2.65635535778805</dd>\n",
       "\t<dt>Week</dt>\n",
       "\t\t<dd>1.13683470108707</dd>\n",
       "\t<dt>IsHolidayFixed</dt>\n",
       "\t\t<dd>1.13253034459372</dd>\n",
       "</dl>\n"
      ],
      "text/latex": [
       "\\begin{description*}\n",
       "\\item[Temperature] 1.2462809930823\n",
       "\\item[CPI] 1.16778624853179\n",
       "\\item[Unemployment] 1.16904867963517\n",
       "\\item[Type] 2.69338265883577\n",
       "\\item[Size] 2.65635535778805\n",
       "\\item[Week] 1.13683470108707\n",
       "\\item[IsHolidayFixed] 1.13253034459372\n",
       "\\end{description*}\n"
      ],
      "text/markdown": [
       "Temperature\n",
       ":   1.2462809930823CPI\n",
       ":   1.16778624853179Unemployment\n",
       ":   1.16904867963517Type\n",
       ":   2.69338265883577Size\n",
       ":   2.65635535778805Week\n",
       ":   1.13683470108707IsHolidayFixed\n",
       ":   1.13253034459372\n",
       "\n"
      ],
      "text/plain": [
       "   Temperature            CPI   Unemployment           Type           Size \n",
       "      1.246281       1.167786       1.169049       2.693383       2.656355 \n",
       "          Week IsHolidayFixed \n",
       "      1.136835       1.132530 "
      ]
     },
     "metadata": {},
     "output_type": "display_data"
    },
    {
     "data": {
      "text/html": [
       "<dl class=dl-horizontal>\n",
       "\t<dt>Temperature</dt>\n",
       "\t\t<dd>1.13179525761328</dd>\n",
       "\t<dt>CPI</dt>\n",
       "\t\t<dd>1.15949627622892</dd>\n",
       "\t<dt>Unemployment</dt>\n",
       "\t\t<dd>1.1416622177928</dd>\n",
       "\t<dt>Size</dt>\n",
       "\t\t<dd>1.01598618886335</dd>\n",
       "\t<dt>IsHolidayFixed</dt>\n",
       "\t\t<dd>1.06030436068856</dd>\n",
       "</dl>\n"
      ],
      "text/latex": [
       "\\begin{description*}\n",
       "\\item[Temperature] 1.13179525761328\n",
       "\\item[CPI] 1.15949627622892\n",
       "\\item[Unemployment] 1.1416622177928\n",
       "\\item[Size] 1.01598618886335\n",
       "\\item[IsHolidayFixed] 1.06030436068856\n",
       "\\end{description*}\n"
      ],
      "text/markdown": [
       "Temperature\n",
       ":   1.13179525761328CPI\n",
       ":   1.15949627622892Unemployment\n",
       ":   1.1416622177928Size\n",
       ":   1.01598618886335IsHolidayFixed\n",
       ":   1.06030436068856\n",
       "\n"
      ],
      "text/plain": [
       "   Temperature            CPI   Unemployment           Size IsHolidayFixed \n",
       "      1.131795       1.159496       1.141662       1.015986       1.060304 "
      ]
     },
     "metadata": {},
     "output_type": "display_data"
    },
    {
     "data": {
      "text/html": [
       "<dl class=dl-horizontal>\n",
       "\t<dt>IsHoliday</dt>\n",
       "\t\t<dd>1.31223748909613</dd>\n",
       "\t<dt>Temperature</dt>\n",
       "\t\t<dd>1.25298999978284</dd>\n",
       "\t<dt>CPI</dt>\n",
       "\t\t<dd>1.16815757554547</dd>\n",
       "\t<dt>Unemployment</dt>\n",
       "\t\t<dd>1.1695472167527</dd>\n",
       "\t<dt>Type</dt>\n",
       "\t\t<dd>2.6934176050146</dd>\n",
       "\t<dt>Size</dt>\n",
       "\t\t<dd>2.6564562016844</dd>\n",
       "\t<dt>Week</dt>\n",
       "\t\t<dd>1.14215710069673</dd>\n",
       "\t<dt>IsHolidayFixed</dt>\n",
       "\t\t<dd>1.40266025222932</dd>\n",
       "</dl>\n"
      ],
      "text/latex": [
       "\\begin{description*}\n",
       "\\item[IsHoliday] 1.31223748909613\n",
       "\\item[Temperature] 1.25298999978284\n",
       "\\item[CPI] 1.16815757554547\n",
       "\\item[Unemployment] 1.1695472167527\n",
       "\\item[Type] 2.6934176050146\n",
       "\\item[Size] 2.6564562016844\n",
       "\\item[Week] 1.14215710069673\n",
       "\\item[IsHolidayFixed] 1.40266025222932\n",
       "\\end{description*}\n"
      ],
      "text/markdown": [
       "IsHoliday\n",
       ":   1.31223748909613Temperature\n",
       ":   1.25298999978284CPI\n",
       ":   1.16815757554547Unemployment\n",
       ":   1.1695472167527Type\n",
       ":   2.6934176050146Size\n",
       ":   2.6564562016844Week\n",
       ":   1.14215710069673IsHolidayFixed\n",
       ":   1.40266025222932\n",
       "\n"
      ],
      "text/plain": [
       "     IsHoliday    Temperature            CPI   Unemployment           Type \n",
       "      1.312237       1.252990       1.168158       1.169547       2.693418 \n",
       "          Size           Week IsHolidayFixed \n",
       "      2.656456       1.142157       1.402660 "
      ]
     },
     "metadata": {},
     "output_type": "display_data"
    },
    {
     "data": {
      "text/html": [
       "<dl class=dl-horizontal>\n",
       "\t<dt>IsHoliday</dt>\n",
       "\t\t<dd>1.02938351419746</dd>\n",
       "\t<dt>Temperature</dt>\n",
       "\t\t<dd>1.13895634258867</dd>\n",
       "\t<dt>Fuel_Price</dt>\n",
       "\t\t<dd>1.08674137435548</dd>\n",
       "\t<dt>CPI</dt>\n",
       "\t\t<dd>1.22358389177997</dd>\n",
       "\t<dt>Unemployment</dt>\n",
       "\t\t<dd>1.18103224404213</dd>\n",
       "\t<dt>Type</dt>\n",
       "\t\t<dd>2.69841587303521</dd>\n",
       "\t<dt>Size</dt>\n",
       "\t\t<dd>2.65948231524969</dd>\n",
       "</dl>\n"
      ],
      "text/latex": [
       "\\begin{description*}\n",
       "\\item[IsHoliday] 1.02938351419746\n",
       "\\item[Temperature] 1.13895634258867\n",
       "\\item[Fuel\\textbackslash{}\\_Price] 1.08674137435548\n",
       "\\item[CPI] 1.22358389177997\n",
       "\\item[Unemployment] 1.18103224404213\n",
       "\\item[Type] 2.69841587303521\n",
       "\\item[Size] 2.65948231524969\n",
       "\\end{description*}\n"
      ],
      "text/markdown": [
       "IsHoliday\n",
       ":   1.02938351419746Temperature\n",
       ":   1.13895634258867Fuel_Price\n",
       ":   1.08674137435548CPI\n",
       ":   1.22358389177997Unemployment\n",
       ":   1.18103224404213Type\n",
       ":   2.69841587303521Size\n",
       ":   2.65948231524969\n",
       "\n"
      ],
      "text/plain": [
       "   IsHoliday  Temperature   Fuel_Price          CPI Unemployment         Type \n",
       "    1.029384     1.138956     1.086741     1.223584     1.181032     2.698416 \n",
       "        Size \n",
       "    2.659482 "
      ]
     },
     "metadata": {},
     "output_type": "display_data"
    },
    {
     "data": {
      "text/html": [
       "<dl class=dl-horizontal>\n",
       "\t<dt>Temperature</dt>\n",
       "\t\t<dd>1.20419607875371</dd>\n",
       "\t<dt>Fuel_Price</dt>\n",
       "\t\t<dd>1.1095009413792</dd>\n",
       "\t<dt>CPI</dt>\n",
       "\t\t<dd>32.2144409812764</dd>\n",
       "\t<dt>Unemployment</dt>\n",
       "\t\t<dd>26.1778330047469</dd>\n",
       "\t<dt>Type</dt>\n",
       "\t\t<dd>2.73533156607444</dd>\n",
       "\t<dt>Size</dt>\n",
       "\t\t<dd>2.67237736748267</dd>\n",
       "\t<dt>Week</dt>\n",
       "\t\t<dd>1.07273666400897</dd>\n",
       "\t<dt>CPI:Unemployment</dt>\n",
       "\t\t<dd>40.2799086458315</dd>\n",
       "</dl>\n"
      ],
      "text/latex": [
       "\\begin{description*}\n",
       "\\item[Temperature] 1.20419607875371\n",
       "\\item[Fuel\\textbackslash{}\\_Price] 1.1095009413792\n",
       "\\item[CPI] 32.2144409812764\n",
       "\\item[Unemployment] 26.1778330047469\n",
       "\\item[Type] 2.73533156607444\n",
       "\\item[Size] 2.67237736748267\n",
       "\\item[Week] 1.07273666400897\n",
       "\\item[CPI:Unemployment] 40.2799086458315\n",
       "\\end{description*}\n"
      ],
      "text/markdown": [
       "Temperature\n",
       ":   1.20419607875371Fuel_Price\n",
       ":   1.1095009413792CPI\n",
       ":   32.2144409812764Unemployment\n",
       ":   26.1778330047469Type\n",
       ":   2.73533156607444Size\n",
       ":   2.67237736748267Week\n",
       ":   1.07273666400897CPI:Unemployment\n",
       ":   40.2799086458315\n",
       "\n"
      ],
      "text/plain": [
       "     Temperature       Fuel_Price              CPI     Unemployment \n",
       "        1.204196         1.109501        32.214441        26.177833 \n",
       "            Type             Size             Week CPI:Unemployment \n",
       "        2.735332         2.672377         1.072737        40.279909 "
      ]
     },
     "metadata": {},
     "output_type": "display_data"
    }
   ],
   "source": [
    "vif1\n",
    "vif2\n",
    "vif3\n",
    "vif4\n",
    "vif5"
   ]
  },
  {
   "cell_type": "code",
   "execution_count": null,
   "metadata": {
    "collapsed": true
   },
   "outputs": [],
   "source": [
    "#appropriate Bonferroni critical value is t(1-0.1/2(46); 46-4-1), or t(0.998913;41)\n",
    "qt(1-((0.1)/(2*nrow(data.agg))), (nrow(data.agg)-8-1))\n",
    "which(abs(ti)> qt(1-((0.1)/(2*nrow(agg_model1))), (nrow(agg_model1)-8-1)) )"
   ]
  },
  {
   "cell_type": "code",
   "execution_count": null,
   "metadata": {
    "collapsed": true
   },
   "outputs": [],
   "source": [
    "2*8/nrow(agg_model1) #p=8 parameters"
   ]
  },
  {
   "cell_type": "code",
   "execution_count": null,
   "metadata": {
    "collapsed": true
   },
   "outputs": [],
   "source": [
    "patient.lm11 <- lm(y ~ x1+x2+x3,data=patient[-11,])\n",
    "patient.lm17 <- lm(y ~ x1+x2+x3,data=patient[-17,])\n",
    "patient.lm27 <- lm(y ~ x1+x2+x3,data=patient[-27,])\n",
    "amodel1.y <- agg_model1$fit\n",
    "amodel1.y11 <- patient.x %*% patient.lm11$coeff\n",
    "> patient.y17 <- patient.x %*% patient.lm17$coeff\n",
    "> patient.y27 <- patient.x %*% patient.lm27$coeff\n",
    "> sum(abs((patient.y11-patient.y)/patient.y))*100/46\n",
    "[1] 1.10094\n",
    "> sum(abs((patient.y17-patient.y)/patient.y))*100/46"
   ]
  },
  {
   "cell_type": "code",
   "execution_count": 115,
   "metadata": {
    "collapsed": true
   },
   "outputs": [],
   "source": [
    "p2080=data.agg[-2080,]\n",
    "m1p2080.lm=lm(log(Weekly_Sales) ~ Temperature + CPI + Unemployment + Type + Size + Week + IsHolidayFixed,data=p2080)\n",
    "m2p2080.lm=lm(log(Weekly_Sales) ~ Temperature + CPI + Unemployment + Size + IsHolidayFixed\n",
    "              ,data=p2080)\n",
    "m3p2080.lm=lm(log(Weekly_Sales) ~ IsHoliday + Temperature + CPI + Unemployment + Type + Size + Week + IsHolidayFixed,\n",
    "              data=p2080)\n",
    "m4p2080.lm=lm(log(Weekly_Sales) ~ IsHoliday + Temperature + Fuel_Price + CPI + Unemployment + Type + Size, data=p2080)"
   ]
  },
  {
   "cell_type": "code",
   "execution_count": 116,
   "metadata": {
    "collapsed": true
   },
   "outputs": [],
   "source": [
    "p4420=data.agg[-4420,]\n",
    "m1p4420.lm=lm(log(Weekly_Sales) ~ Temperature + CPI + Unemployment + Type + Size + Week + IsHolidayFixed,data=p4420)\n",
    "m2p4420.lm=lm(log(Weekly_Sales) ~ Temperature + CPI + Unemployment + Size + IsHolidayFixed\n",
    "              ,data=p4420)\n",
    "m3p4420.lm=lm(log(Weekly_Sales) ~ IsHoliday + Temperature + CPI + Unemployment + Type + Size + Week + IsHolidayFixed,\n",
    "              data=p4420)\n",
    "m4p4420.lm=lm(log(Weekly_Sales) ~ IsHoliday + Temperature + Fuel_Price + CPI + Unemployment + Type + Size, data=p4420)"
   ]
  },
  {
   "cell_type": "code",
   "execution_count": 117,
   "metadata": {
    "collapsed": true
   },
   "outputs": [],
   "source": [
    "p4433=data.agg[-4433,]\n",
    "m1p4433.lm=lm(log(Weekly_Sales) ~ Temperature + CPI + Unemployment + Type + Size + Week + IsHolidayFixed,data=p4433)\n",
    "m2p4433.lm=lm(log(Weekly_Sales) ~ Temperature + CPI + Unemployment + Size + IsHolidayFixed\n",
    "              ,data=p4433)\n",
    "m3p4433.lm=lm(log(Weekly_Sales) ~ IsHoliday + Temperature + CPI + Unemployment + Type + Size + Week + IsHolidayFixed,\n",
    "              data=p4433)\n",
    "m4p4433.lm=lm(log(Weekly_Sales) ~ IsHoliday + Temperature + Fuel_Price + CPI + Unemployment + Type + Size, data=p4433)"
   ]
  },
  {
   "cell_type": "code",
   "execution_count": 118,
   "metadata": {
    "collapsed": true
   },
   "outputs": [],
   "source": [
    "p2093=data.agg[-2093,]\n",
    "m1p2093.lm=lm(log(Weekly_Sales) ~ Temperature + CPI + Unemployment + Type + Size + Week + IsHolidayFixed,data=p2093)\n",
    "m2p2093.lm=lm(log(Weekly_Sales) ~ Temperature + CPI + Unemployment + Size + IsHolidayFixed\n",
    "              ,data=p2093)\n",
    "m3p2093.lm=lm(log(Weekly_Sales) ~ IsHoliday + Temperature + CPI + Unemployment + Type + Size + Week + IsHolidayFixed,\n",
    "              data=p2093)\n",
    "m4p2093.lm=lm(log(Weekly_Sales) ~ IsHoliday + Temperature + Fuel_Price + CPI + Unemployment + Type + Size, data=p2093)"
   ]
  },
  {
   "cell_type": "code",
   "execution_count": 119,
   "metadata": {
    "collapsed": true
   },
   "outputs": [],
   "source": [
    "p1900=data.agg[-1900,]\n",
    "m1p1900.lm=lm(log(Weekly_Sales) ~ Temperature + CPI + Unemployment + Type + Size + Week + IsHolidayFixed,data=p1900)\n",
    "m2p1900.lm=lm(log(Weekly_Sales) ~ Temperature + CPI + Unemployment+ Size+ IsHolidayFixed\n",
    "              ,data=p1900)\n",
    "m3p1900.lm=lm(log(Weekly_Sales) ~ IsHoliday + Temperature + CPI + Unemployment + Type + Size + Week + IsHolidayFixed,\n",
    "              data=p1900)\n",
    "m4p1900.lm=lm(log(Weekly_Sales) ~ IsHoliday + Temperature + Fuel_Price + CPI + Unemployment + Type + Size, data=p1900)"
   ]
  },
  {
   "cell_type": "code",
   "execution_count": 120,
   "metadata": {
    "collapsed": true
   },
   "outputs": [],
   "source": [
    "mrep1.lm=lm(log(Weekly_Sales) ~ Temperature + CPI + Unemployment + Type + Size + Week + IsHolidayFixed,data=data.agg)\n",
    "mrep2.lm=lm(log(Weekly_Sales) ~ Temperature + CPI + Unemployment+ Size+ IsHolidayFixed,\n",
    "            data=data.agg)\n",
    "mrep3.lm=lm(log(Weekly_Sales) ~ IsHoliday + Temperature + CPI + Unemployment + Type + Size + Week + IsHolidayFixed,\n",
    "            data=data.agg)\n",
    "mrep4.lm=lm(log(Weekly_Sales) ~ IsHoliday + Temperature + Fuel_Price + CPI + Unemployment + Type + Size, data=data.agg)\n",
    "datarep=data.agg\n",
    "\n",
    "amodel1.y <- agg_model1$fit\n",
    "amodel2.y <- agg_model2$fit\n",
    "amodel3.y <- agg_model3$fit\n",
    "amodel4.y <- agg_model4$fit"
   ]
  },
  {
   "cell_type": "code",
   "execution_count": 121,
   "metadata": {
    "collapsed": true
   },
   "outputs": [],
   "source": [
    "data.aggint = rep(1,nrow(data.agg))\n",
    "data.aggx1 = cbind(data.aggint,data.agg$Temperature,data.agg$CPI,data.agg$Unemployment,data.agg$Type,\n",
    "        data.agg$Size,data.agg$Week,data.agg$IsHolidayFixed)\n",
    "data.aggx2 = cbind(data.aggint,data.agg$Temperature, data.agg$CPI,data.agg$Unemployment,\n",
    "        data.agg$Size,data.agg$IsHolidayFixed)\n",
    "data.aggx3 = cbind(data.aggint, data.agg$IsHoliday, data.agg$Temperature, data.agg$CPI,data.agg$Unemployment,data.agg$Type,\n",
    "        data.agg$Size,data.agg$Week,data.agg$IsHolidayFixed)\n",
    "data.aggx4 = cbind(data.aggint,data.agg$IsHoliday,data.agg$Temperature,data.agg$Fuel_Price, data.agg$CPI,\n",
    "        data.agg$Unemployment,data.agg$Type, data.agg$Size)\n"
   ]
  },
  {
   "cell_type": "code",
   "execution_count": 122,
   "metadata": {
    "collapsed": true
   },
   "outputs": [],
   "source": [
    "dataagg.y2080.1 <- data.aggx1 %*% m1p2080.lm$coeff\n",
    "dataagg.y2080.2 <- data.aggx2 %*% m2p2080.lm$coeff\n",
    "dataagg.y2080.3 <- data.aggx3 %*% m3p2080.lm$coeff\n",
    "dataagg.y2080.4 <- data.aggx4 %*% m4p2080.lm$coeff\n",
    "\n",
    "dataagg.y4420.1 <- data.aggx1 %*% m1p4420.lm$coeff\n",
    "dataagg.y4420.2 <- data.aggx2 %*% m2p4420.lm$coeff\n",
    "dataagg.y4420.3 <- data.aggx3 %*% m3p4420.lm$coeff\n",
    "dataagg.y4420.4 <- data.aggx4 %*% m4p4420.lm$coeff\n",
    "\n",
    "dataagg.y4433.1 <- data.aggx1 %*% m1p4433.lm$coeff\n",
    "dataagg.y4433.2 <- data.aggx2 %*% m2p4433.lm$coeff\n",
    "dataagg.y4433.3 <- data.aggx3 %*% m3p4433.lm$coeff\n",
    "dataagg.y4433.4 <- data.aggx4 %*% m4p4433.lm$coeff\n",
    "\n",
    "dataagg.y2093.1 <- data.aggx1 %*% m1p2093.lm$coeff\n",
    "dataagg.y2093.2 <- data.aggx2 %*% m2p2093.lm$coeff\n",
    "dataagg.y2093.3 <- data.aggx3 %*% m3p2093.lm$coeff\n",
    "dataagg.y2093.4 <- data.aggx4 %*% m4p2093.lm$coeff\n",
    "\n",
    "dataagg.y1900.1 <- data.aggx1 %*% m1p1900.lm$coeff\n",
    "dataagg.y1900.2 <- data.aggx2 %*% m2p1900.lm$coeff\n",
    "dataagg.y1900.3 <- data.aggx3 %*% m3p1900.lm$coeff\n",
    "dataagg.y1900.4 <- data.aggx4 %*% m4p1900.lm$coeff\n"
   ]
  },
  {
   "cell_type": "code",
   "execution_count": 123,
   "metadata": {},
   "outputs": [
    {
     "data": {
      "text/html": [
       "0.00314317450286986"
      ],
      "text/latex": [
       "0.00314317450286986"
      ],
      "text/markdown": [
       "0.00314317450286986"
      ],
      "text/plain": [
       "[1] 0.003143175"
      ]
     },
     "metadata": {},
     "output_type": "display_data"
    },
    {
     "data": {
      "text/html": [
       "0.00283482759777784"
      ],
      "text/latex": [
       "0.00283482759777784"
      ],
      "text/markdown": [
       "0.00283482759777784"
      ],
      "text/plain": [
       "[1] 0.002834828"
      ]
     },
     "metadata": {},
     "output_type": "display_data"
    },
    {
     "data": {
      "text/html": [
       "0.0033613122845678"
      ],
      "text/latex": [
       "0.0033613122845678"
      ],
      "text/markdown": [
       "0.0033613122845678"
      ],
      "text/plain": [
       "[1] 0.003361312"
      ]
     },
     "metadata": {},
     "output_type": "display_data"
    },
    {
     "data": {
      "text/html": [
       "0.00224070178337248"
      ],
      "text/latex": [
       "0.00224070178337248"
      ],
      "text/markdown": [
       "0.00224070178337248"
      ],
      "text/plain": [
       "[1] 0.002240702"
      ]
     },
     "metadata": {},
     "output_type": "display_data"
    }
   ],
   "source": [
    "sum((abs((dataagg.y2080.1-amodel1.y)/amodel1.y))*100)/nrow(data.agg)\n",
    "sum((abs((dataagg.y2080.2-amodel2.y)/amodel2.y))*100)/nrow(data.agg)\n",
    "sum((abs((dataagg.y2080.3-amodel3.y)/amodel3.y))*100)/nrow(data.agg)\n",
    "sum((abs((dataagg.y2080.4-amodel4.y)/amodel4.y))*100)/nrow(data.agg)"
   ]
  },
  {
   "cell_type": "code",
   "execution_count": 124,
   "metadata": {},
   "outputs": [
    {
     "data": {
      "text/html": [
       "0.00294375479061309"
      ],
      "text/latex": [
       "0.00294375479061309"
      ],
      "text/markdown": [
       "0.00294375479061309"
      ],
      "text/plain": [
       "[1] 0.002943755"
      ]
     },
     "metadata": {},
     "output_type": "display_data"
    },
    {
     "data": {
      "text/html": [
       "0.00261453118084852"
      ],
      "text/latex": [
       "0.00261453118084852"
      ],
      "text/markdown": [
       "0.00261453118084852"
      ],
      "text/plain": [
       "[1] 0.002614531"
      ]
     },
     "metadata": {},
     "output_type": "display_data"
    },
    {
     "data": {
      "text/html": [
       "0.00316402303548832"
      ],
      "text/latex": [
       "0.00316402303548832"
      ],
      "text/markdown": [
       "0.00316402303548832"
      ],
      "text/plain": [
       "[1] 0.003164023"
      ]
     },
     "metadata": {},
     "output_type": "display_data"
    },
    {
     "data": {
      "text/html": [
       "0.00212697584810876"
      ],
      "text/latex": [
       "0.00212697584810876"
      ],
      "text/markdown": [
       "0.00212697584810876"
      ],
      "text/plain": [
       "[1] 0.002126976"
      ]
     },
     "metadata": {},
     "output_type": "display_data"
    }
   ],
   "source": [
    "sum((abs((dataagg.y4420.1-amodel1.y)/amodel1.y))*100)/nrow(data.agg)\n",
    "sum((abs((dataagg.y4420.2-amodel2.y)/amodel2.y))*100)/nrow(data.agg)\n",
    "sum((abs((dataagg.y4420.3-amodel3.y)/amodel3.y))*100)/nrow(data.agg)\n",
    "sum((abs((dataagg.y4420.4-amodel4.y)/amodel4.y))*100)/nrow(data.agg)"
   ]
  },
  {
   "cell_type": "code",
   "execution_count": 125,
   "metadata": {},
   "outputs": [
    {
     "data": {
      "text/html": [
       "0.00327502895489503"
      ],
      "text/latex": [
       "0.00327502895489503"
      ],
      "text/markdown": [
       "0.00327502895489503"
      ],
      "text/plain": [
       "[1] 0.003275029"
      ]
     },
     "metadata": {},
     "output_type": "display_data"
    },
    {
     "data": {
      "text/html": [
       "0.0031262645405175"
      ],
      "text/latex": [
       "0.0031262645405175"
      ],
      "text/markdown": [
       "0.0031262645405175"
      ],
      "text/plain": [
       "[1] 0.003126265"
      ]
     },
     "metadata": {},
     "output_type": "display_data"
    },
    {
     "data": {
      "text/html": [
       "0.00345517090966193"
      ],
      "text/latex": [
       "0.00345517090966193"
      ],
      "text/markdown": [
       "0.00345517090966193"
      ],
      "text/plain": [
       "[1] 0.003455171"
      ]
     },
     "metadata": {},
     "output_type": "display_data"
    },
    {
     "data": {
      "text/html": [
       "0.00294877672716685"
      ],
      "text/latex": [
       "0.00294877672716685"
      ],
      "text/markdown": [
       "0.00294877672716685"
      ],
      "text/plain": [
       "[1] 0.002948777"
      ]
     },
     "metadata": {},
     "output_type": "display_data"
    }
   ],
   "source": [
    "sum((abs((dataagg.y4433.1-amodel1.y)/amodel1.y))*100)/nrow(data.agg)\n",
    "sum((abs((dataagg.y4433.2-amodel2.y)/amodel2.y))*100)/nrow(data.agg)\n",
    "sum((abs((dataagg.y4433.3-amodel3.y)/amodel3.y))*100)/nrow(data.agg)\n",
    "sum((abs((dataagg.y4433.4-amodel4.y)/amodel4.y))*100)/nrow(data.agg)"
   ]
  },
  {
   "cell_type": "code",
   "execution_count": 126,
   "metadata": {},
   "outputs": [
    {
     "data": {
      "text/html": [
       "0.0034226914909102"
      ],
      "text/latex": [
       "0.0034226914909102"
      ],
      "text/markdown": [
       "0.0034226914909102"
      ],
      "text/plain": [
       "[1] 0.003422691"
      ]
     },
     "metadata": {},
     "output_type": "display_data"
    },
    {
     "data": {
      "text/html": [
       "0.0031977954395883"
      ],
      "text/latex": [
       "0.0031977954395883"
      ],
      "text/markdown": [
       "0.0031977954395883"
      ],
      "text/plain": [
       "[1] 0.003197795"
      ]
     },
     "metadata": {},
     "output_type": "display_data"
    },
    {
     "data": {
      "text/html": [
       "0.00362371172698795"
      ],
      "text/latex": [
       "0.00362371172698795"
      ],
      "text/markdown": [
       "0.00362371172698795"
      ],
      "text/plain": [
       "[1] 0.003623712"
      ]
     },
     "metadata": {},
     "output_type": "display_data"
    },
    {
     "data": {
      "text/html": [
       "0.00308290732385167"
      ],
      "text/latex": [
       "0.00308290732385167"
      ],
      "text/markdown": [
       "0.00308290732385167"
      ],
      "text/plain": [
       "[1] 0.003082907"
      ]
     },
     "metadata": {},
     "output_type": "display_data"
    }
   ],
   "source": [
    "sum((abs((dataagg.y2093.1-amodel1.y)/amodel1.y))*100)/nrow(data.agg)\n",
    "sum((abs((dataagg.y2093.2-amodel2.y)/amodel2.y))*100)/nrow(data.agg)\n",
    "sum((abs((dataagg.y2093.3-amodel3.y)/amodel3.y))*100)/nrow(data.agg)\n",
    "sum((abs((dataagg.y2093.4-amodel4.y)/amodel4.y))*100)/nrow(data.agg)"
   ]
  },
  {
   "cell_type": "code",
   "execution_count": 127,
   "metadata": {},
   "outputs": [
    {
     "data": {
      "text/html": [
       "0.00242984906516788"
      ],
      "text/latex": [
       "0.00242984906516788"
      ],
      "text/markdown": [
       "0.00242984906516788"
      ],
      "text/plain": [
       "[1] 0.002429849"
      ]
     },
     "metadata": {},
     "output_type": "display_data"
    },
    {
     "data": {
      "text/html": [
       "0.00232895005016511"
      ],
      "text/latex": [
       "0.00232895005016511"
      ],
      "text/markdown": [
       "0.00232895005016511"
      ],
      "text/plain": [
       "[1] 0.00232895"
      ]
     },
     "metadata": {},
     "output_type": "display_data"
    },
    {
     "data": {
      "text/html": [
       "0.00270796278588821"
      ],
      "text/latex": [
       "0.00270796278588821"
      ],
      "text/markdown": [
       "0.00270796278588821"
      ],
      "text/plain": [
       "[1] 0.002707963"
      ]
     },
     "metadata": {},
     "output_type": "display_data"
    },
    {
     "data": {
      "text/html": [
       "0.00260553675097072"
      ],
      "text/latex": [
       "0.00260553675097072"
      ],
      "text/markdown": [
       "0.00260553675097072"
      ],
      "text/plain": [
       "[1] 0.002605537"
      ]
     },
     "metadata": {},
     "output_type": "display_data"
    }
   ],
   "source": [
    "sum((abs((dataagg.y1900.1-amodel1.y)/amodel1.y))*100)/nrow(data.agg)\n",
    "sum((abs((dataagg.y1900.2-amodel2.y)/amodel2.y))*100)/nrow(data.agg)\n",
    "sum((abs((dataagg.y1900.3-amodel3.y)/amodel3.y))*100)/nrow(data.agg)\n",
    "sum((abs((dataagg.y1900.4-amodel4.y)/amodel4.y))*100)/nrow(data.agg)"
   ]
  },
  {
   "cell_type": "code",
   "execution_count": 43,
   "metadata": {},
   "outputs": [
    {
     "ename": "ERROR",
     "evalue": "Error in parse(text = x, srcfile = src): <text>:6:65: unexpected ')'\n5: datarep$EstimY27=ps27.lm$coeff[1]+(ps27.lm$coeff[2]*psrep$Age)+(ps27.lm$coeff[3]*psrep$IllSev)+(ps27.lm$coeff[4]*psrep$AnxLvl)\n6: sum(((abs(datarep$EstimY11-datarep$EstimY)/datarep$EstimY)))*100)\n                                                                   ^\n",
     "output_type": "error",
     "traceback": [
      "Error in parse(text = x, srcfile = src): <text>:6:65: unexpected ')'\n5: datarep$EstimY27=ps27.lm$coeff[1]+(ps27.lm$coeff[2]*psrep$Age)+(ps27.lm$coeff[3]*psrep$IllSev)+(ps27.lm$coeff[4]*psrep$AnxLvl)\n6: sum(((abs(datarep$EstimY11-datarep$EstimY)/datarep$EstimY)))*100)\n                                                                   ^\nTraceback:\n"
     ]
    }
   ],
   "source": [
    "#may not use\n",
    "datarep$EstimY=psrep.lm$coeff[1]+(psrep.lm$coeff[2]*psrep$Age)+(psrep.lm$coeff[3]*psrep$IllSev)+(psrep.lm$coeff[4]*psrep$AnxLvl)\n",
    "datarep$EstimY11=ps11.lm$coeff[1]+(ps11.lm$coeff[2]*psrep$Age)+(ps11.lm$coeff[3]*psrep$IllSev)+(ps11.lm$coeff[4]*psrep$AnxLvl)\n",
    "datarep$EstimY17=ps17.lm$coeff[1]+(ps17.lm$coeff[2]*psrep$Age)+(ps17.lm$coeff[3]*psrep$IllSev)+(ps17.lm$coeff[4]*psrep$AnxLvl)\n",
    "datarep$EstimY27=ps27.lm$coeff[1]+(ps27.lm$coeff[2]*psrep$Age)+(ps27.lm$coeff[3]*psrep$IllSev)+(ps27.lm$coeff[4]*psrep$AnxLvl)\n",
    "sum(((abs(datarep$EstimY11-datarep$EstimY)/datarep$EstimY)))*100)/nrow(data.agg)"
   ]
  },
  {
   "cell_type": "code",
   "execution_count": 30,
   "metadata": {},
   "outputs": [
    {
     "data": {
      "text/html": [
       "0.99999222999223"
      ],
      "text/latex": [
       "0.99999222999223"
      ],
      "text/markdown": [
       "0.99999222999223"
      ],
      "text/plain": [
       "[1] 0.9999922"
      ]
     },
     "metadata": {},
     "output_type": "display_data"
    }
   ],
   "source": [
    "1-((0.1)/(2*nrow(data.agg)))"
   ]
  },
  {
   "cell_type": "code",
   "execution_count": 33,
   "metadata": {},
   "outputs": [
    {
     "data": {
      "text/html": [
       "0.000155400155400155"
      ],
      "text/latex": [
       "0.000155400155400155"
      ],
      "text/markdown": [
       "0.000155400155400155"
      ],
      "text/plain": [
       "[1] 0.0001554002"
      ]
     },
     "metadata": {},
     "output_type": "display_data"
    }
   ],
   "source": [
    "1/6435"
   ]
  },
  {
   "cell_type": "code",
   "execution_count": 73,
   "metadata": {},
   "outputs": [
    {
     "data": {
      "text/plain": [
       "\n",
       "Call:\n",
       "lm(formula = log(Weekly_Sales) ~ Temperature + Fuel_Price + CPI + \n",
       "    Unemployment + Size + IsHolidayFixed, data = noout)\n",
       "\n",
       "Residuals:\n",
       "     Min       1Q   Median       3Q      Max \n",
       "-0.79737 -0.20811 -0.02166  0.19901  1.11268 \n",
       "\n",
       "Coefficients:\n",
       "                     Estimate Std. Error t value Pr(>|t|)    \n",
       "(Intercept)         1.287e+01  4.233e-02 304.004  < 2e-16 ***\n",
       "Temperature         6.433e-04  2.096e-04   3.069  0.00216 ** \n",
       "Fuel_Price         -5.904e-04  8.107e-03  -0.073  0.94194    \n",
       "CPI                -1.190e-03  1.004e-04 -11.843  < 2e-16 ***\n",
       "Unemployment       -9.024e-03  2.051e-03  -4.400  1.1e-05 ***\n",
       "Size                8.064e-06  5.706e-08 141.327  < 2e-16 ***\n",
       "IsHolidayFixedTRUE  8.423e-02  8.576e-03   9.822  < 2e-16 ***\n",
       "---\n",
       "Signif. codes:  0 '***' 0.001 '**' 0.01 '*' 0.05 '.' 0.1 ' ' 1\n",
       "\n",
       "Residual standard error: 0.2865 on 6423 degrees of freedom\n",
       "Multiple R-squared:  0.7623,\tAdjusted R-squared:  0.7621 \n",
       "F-statistic:  3434 on 6 and 6423 DF,  p-value: < 2.2e-16\n"
      ]
     },
     "metadata": {},
     "output_type": "display_data"
    }
   ],
   "source": [
    "noout=data.agg[-c(2080,4433,2093,1900,4420),]\n",
    "noout.lm=lm(log(Weekly_Sales) ~ Temperature + Fuel_Price + CPI + Unemployment + Size + IsHolidayFixed\n",
    "              ,data=noout)\n",
    "summary(noout.lm)"
   ]
  },
  {
   "cell_type": "code",
   "execution_count": null,
   "metadata": {
    "collapsed": true
   },
   "outputs": [],
   "source": []
  }
 ],
 "metadata": {
  "kernelspec": {
   "display_name": "R",
   "language": "R",
   "name": "ir"
  },
  "language_info": {
   "codemirror_mode": "r",
   "file_extension": ".r",
   "mimetype": "text/x-r-source",
   "name": "R",
   "pygments_lexer": "r",
   "version": "3.4.3"
  }
 },
 "nbformat": 4,
 "nbformat_minor": 2
}
